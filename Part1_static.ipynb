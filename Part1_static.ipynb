{
  "cells": [
    {
      "cell_type": "markdown",
      "metadata": {
        "id": "view-in-github",
        "colab_type": "text"
      },
      "source": [
        "<a href=\"https://colab.research.google.com/github/NinelK/IMBIZO2023_population_tutorial/blob/main/Part1_static.ipynb\" target=\"_parent\"><img src=\"https://colab.research.google.com/assets/colab-badge.svg\" alt=\"Open In Colab\"/></a>"
      ]
    },
    {
      "cell_type": "markdown",
      "metadata": {
        "id": "u7CzH9lV4IGC"
      },
      "source": [
        "# **Tutorial:** Dimensionality reduction & neural population models: static\n",
        "\n",
        "See the slides [here](https://docs.google.com/presentation/d/e/2PACX-1vSe2j2ewT0oycRirE2zeMBoFvUZp47ozIno4h5Zd0VhJRv-9k5mp86TJ7V4XsFOBm-e6wluv9WNjGT2/pub?start=false&loop=false&delayms=3000).\n",
        "\n",
        "We will learn how to:\n",
        "* Visualize and perform exploration analysis on neuronal population data;\n",
        "* See which dimensions in the high-dimensional data are important;\n",
        "* Understand and apply principle component analysis (PCA);\n",
        "* Understand the relationship between the PCA on the trial-to-trial variability in responses vs. the network connectivity."
      ]
    },
    {
      "cell_type": "markdown",
      "metadata": {
        "id": "iM98r9QeLNFx",
        "jp-MarkdownHeadingCollapsed": true,
        "tags": []
      },
      "source": [
        "## Setups"
      ]
    },
    {
      "cell_type": "code",
      "execution_count": null,
      "metadata": {
        "id": "WpdhTw71sWdJ",
        "cellView": "form"
      },
      "outputs": [],
      "source": [
        "# @title Imports and setup\n",
        "import numpy as np\n",
        "import matplotlib.pyplot as plt\n",
        "import requests\n",
        "import os\n",
        "\n",
        "import ipywidgets as widgets  # interactive display\n",
        "from numpy.linalg import eig, eigh\n",
        "import imageio.v2 as imageio\n",
        "from tqdm.notebook import tqdm\n",
        "import IPython\n",
        "from IPython.display import Image\n",
        "\n",
        "from matplotlib import rcParams\n",
        "rcParams.update({\"font.size\": 18})"
      ]
    },
    {
      "cell_type": "code",
      "execution_count": null,
      "metadata": {
        "id": "Izy3lOM2L2Rf",
        "cellView": "form"
      },
      "outputs": [],
      "source": [
        "# @title Helper functions\n",
        "\n",
        "def make_a_scene(dffs, roi_mask_list):\n",
        "    scene = np.zeros(roi_mask_list[0].shape, dtype=\"float\")\n",
        "    for dff, roi in zip(dffs, roi_mask_list):\n",
        "        scene += roi * dff\n",
        "    return scene\n",
        "\n",
        "\n",
        "def make_a_gif(title, gif_filename, data, rois, vmin=0, vmax=1):\n",
        "    \"\"\"\n",
        "    A function that makes a *.gif animation of neuronal population activity\n",
        "    Parameters\n",
        "    ----------\n",
        "    title: title to be displayed on the video\n",
        "    gif_filename: filename for saving the gif\n",
        "    data: neuronal data [trials x neurons]\n",
        "    rois: binary roi masks for the field-of-view simulation (data from Allen Brain) [neurons, 512px x 512px]\n",
        "    vmin: min value (black)\n",
        "    vmax: max value (white)\n",
        "    \"\"\"\n",
        "    assert gif_filename[-4:] == \".gif\"\n",
        "    with imageio.get_writer(gif_filename, mode=\"I\") as writer:\n",
        "        for frame in tqdm(data.T):\n",
        "            scene = make_a_scene(frame, rois)\n",
        "\n",
        "            fig = plt.figure()\n",
        "            plt.imshow(scene, cmap=\"gray\", vmin=vmin, vmax=vmax)\n",
        "            plt.axis(\"off\")\n",
        "            plt.title(title)\n",
        "            # label the neurons\n",
        "            for i, roi in enumerate(rois):\n",
        "                cm = np.array(np.where(roi)).mean(-1)[::-1]\n",
        "                cm[0] += 10  # move right\n",
        "                plt.text(*cm, i, color=\"white\")\n",
        "            filename = f\"scene_{gif_filename[:-4]}.jpg\"\n",
        "            fig.savefig(filename)\n",
        "            plt.close()\n",
        "            image = imageio.imread(filename)\n",
        "            writer.append_data(image)\n",
        "\n",
        "\n",
        "def descending_eigh(X):\n",
        "    \"\"\"\n",
        "    A function that sort the eigenvectors in descending orddr.\n",
        "    ----------\n",
        "    X: input matrix (np.ndarray)\n",
        "    \"\"\"\n",
        "    w, v = eigh(X)\n",
        "\n",
        "    # reorder in descending eigenvalue order\n",
        "    sort = np.argsort(w)[::-1]\n",
        "    w, v = w[sort], v[:, sort]\n",
        "\n",
        "    return (w, v)"
      ]
    },
    {
      "cell_type": "code",
      "execution_count": null,
      "metadata": {
        "id": "jWpzFbfjysx9",
        "cellView": "form"
      },
      "outputs": [],
      "source": [
        "# @title Download and load the data\n",
        "\n",
        "lambdas = np.array([1, 0.8, 0.5]).reshape((-1, 1))  # shared noise spectrum\n",
        "n = len(lambdas)  # shared (latent) noise dimension\n",
        "T = 3000  # recorded datapoints\n",
        "\n",
        "\n",
        "def set_true_ensambles(random_seed=0, N=20):\n",
        "    np.random.seed(random_seed)\n",
        "    C = np.clip(np.random.randn(N, n) ** 11, -1, 1)  # latent space projection\n",
        "    return C\n",
        "\n",
        "\n",
        "def generate_data(C, random_seed=0, N=20):\n",
        "    # generate synthetic data\n",
        "    np.random.seed(random_seed)\n",
        "    eps = np.random.randn(n, T) * lambdas  # shared (latent) noise\n",
        "    dx = 0.25 * np.random.randn(N, T)  # private single-neuron noise\n",
        "    fr = 3 * (np.random.rand(N).reshape((-1, 1)) + 1)  # avg fr in Hz\n",
        "    dfr = np.random.rand(N).reshape((-1, 1)) * 1  # fr changes in Hz\n",
        "    z = C @ eps + dx\n",
        "    x = z * dfr + fr\n",
        "\n",
        "    return x.T\n",
        "\n",
        "\n",
        "# Download the data\n",
        "# Define the local filename to save data\n",
        "local_file = 'rois.npy'\n",
        "# Define the external url\n",
        "remote_url = f'https://raw.githubusercontent.com/NinelK/IMBIZO2023_population_tutorial/main/{local_file}'\n",
        "# Make http request for remote file data\n",
        "data = requests.get(remote_url)\n",
        "# Save file data to local copy\n",
        "with open(local_file, 'wb')as f:\n",
        "    f.write(data.content)\n",
        "\n",
        "# load the downloaded data\n",
        "all_rois = np.load(local_file)\n",
        "\n",
        "# set rois\n",
        "np.random.seed(15)  # a seed that looks nice\n",
        "rois = all_rois[np.random.choice(np.arange(len(all_rois)), 20)]\n",
        "\n",
        "# set true ensambles\n",
        "C = set_true_ensambles()\n",
        "\n",
        "# generate and visualize the data\n",
        "X = generate_data(C).T\n",
        "\n",
        "assert np.all(X > 0)\n",
        "\n",
        "# if demo gif is not created -- create\n",
        "if not os.path.exists(\"0_raw_fr.gif\"):\n",
        "    make_a_gif(\"Raw responses\", \"0_raw_fr.gif\", X[:,: T // 10], rois, vmin=0, vmax=5)"
      ]
    },
    {
      "cell_type": "markdown",
      "metadata": {
        "id": "ZnLeIh0GL2Rh"
      },
      "source": [
        "## Exploratory data analysis"
      ]
    },
    {
      "cell_type": "markdown",
      "metadata": {
        "id": "X33mTki9L2Ri"
      },
      "source": [
        "The first step of the analysis, when you get a new dataset, is to **visualize** what is in it. Let us start with a field-of-view video of neuronal activity (*note, this data resembles real, but it is not real; it was simulated for the sake of simplicity in this tutorial*)"
      ]
    },
    {
      "cell_type": "code",
      "execution_count": null,
      "metadata": {
        "id": "g83LKq6VL2Ri"
      },
      "outputs": [],
      "source": [
        "Image(filename=\"0_raw_fr.gif\")  # a simulated field-of-view recording "
      ]
    },
    {
      "cell_type": "markdown",
      "metadata": {
        "id": "8Z4f_M_aL2Rj"
      },
      "source": [
        "Here we got our hands on a relatively small recording of neuronal activity in the visual cortex in response to a presentation of a stimulus (e.g., a picture of a Table Mountain). The responses were characterized by the average firing rate of each neuron in response to the stimulus and stored in the dataset $X$.\n",
        "The dimensionality of the dataset $X$ is $[\\mathrm{neurons} \\times \\mathrm{trials}]$"
      ]
    },
    {
      "cell_type": "code",
      "execution_count": null,
      "metadata": {
        "id": "qVTEhAzvL2Rk"
      },
      "outputs": [],
      "source": [
        "n_neurons, n_trials = X.shape\n",
        "print(n_neurons, n_trials)"
      ]
    },
    {
      "cell_type": "markdown",
      "metadata": {
        "id": "8tkAfgIIL2Rk"
      },
      "source": [
        "Note, that our simulated responses are non-negative. It is a common property both for the firing rate and the $\\Delta F/F$ (with a properly subtracted baseline). Let's double-check that:"
      ]
    },
    {
      "cell_type": "code",
      "execution_count": null,
      "metadata": {
        "id": "6siXTPUCL2Rk"
      },
      "outputs": [],
      "source": [
        "np.all(X > 0)"
      ]
    },
    {
      "cell_type": "markdown",
      "metadata": {
        "id": "tmaDXYIWL2Rl"
      },
      "source": [
        "We can also 'forget' about the locations of the neurons in the virtual field-of-view and visualize the data as it is, using a 2D raster plot:"
      ]
    },
    {
      "cell_type": "code",
      "execution_count": null,
      "metadata": {
        "id": "YX6BaMIYL2Rl"
      },
      "outputs": [],
      "source": [
        "plt.figure(figsize=(20, 4))\n",
        "plt.imshow(X[:,: T // 10], vmin=0, aspect=5, interpolation=\"None\", cmap=\"inferno\")\n",
        "plt.title(\"Trial-average responses of the neuronal population\")\n",
        "plt.xlabel(\"trial #\")\n",
        "plt.ylabel(\"neuron #\")\n",
        "plt.colorbar(aspect=10, pad=0.02, label=\"avg. firing rate, Hz\")\n",
        "plt.show()\n",
        "# help(plt.colorbar)"
      ]
    },
    {
      "cell_type": "markdown",
      "metadata": {
        "jp-MarkdownHeadingCollapsed": true,
        "tags": [],
        "id": "ooX3iFfYL2Rm"
      },
      "source": [
        "### **Think!**\n",
        "\n",
        "Is there any structure in the data? What does it tell us? Which neurons do you think work together?\n",
        "\n",
        "Why do we see that rows on average have different colors?"
      ]
    },
    {
      "cell_type": "markdown",
      "metadata": {
        "id": "S7ZrHL98L2Rm"
      },
      "source": [
        "1. There is some structure in those reponses... some rows in the 2D raster look similar, meaning that the neurons work together in sync!\n",
        "\n",
        "2. **But**, we also see that rows on average have very different colors, meaning that the firing rates of the neurons are drastically different"
      ]
    },
    {
      "cell_type": "markdown",
      "metadata": {
        "tags": [],
        "id": "yX38Y36PL2Rm"
      },
      "source": [
        "## Focus on trial-to-trial variability"
      ]
    },
    {
      "cell_type": "markdown",
      "metadata": {
        "id": "UtLS4jJBL2Rm"
      },
      "source": [
        "It is hard to tell what each neuron is doing from the visualizations above.\n",
        "\n",
        "The reason for that is the variability in the individual properties of single neurons: their *mean* firing rates and the *trial-to-trial variability* in the single neuron responses.\n"
      ]
    },
    {
      "cell_type": "markdown",
      "metadata": {
        "id": "yH48DID9L2Rn"
      },
      "source": [
        "### Exercise 1a: Calculate mean and std of the firing rate \n",
        "*Hint: think about the axes in the data. Which one is the sample-axis, and which one is the feature-axis?*\n",
        "\n",
        "*Hint2: what dimensionality do we expect to see in the correct answer?*"
      ]
    },
    {
      "cell_type": "code",
      "execution_count": null,
      "metadata": {
        "id": "bRkAV3FzL2Rn"
      },
      "outputs": [],
      "source": [
        "# TODO: calculate mean and std of firing rates\n",
        "# hint: think about the dimensions of the data X and the dimension of the vector of neuronal firing rates\n",
        "mean_fr = X.mean(..., keepdims=True)\n",
        "std_fr = X.std(..., keepdims=True)\n",
        "\n",
        "sort = np.argsort(\n",
        "    mean_fr.squeeze()\n",
        ")  # the ordering that sorts neuons according to their firing rate\n",
        "plt.errorbar(range(X.shape[0]), mean_fr[sort].squeeze(), yerr=std_fr[sort].squeeze(), capsize=5)\n",
        "plt.title(\"Firing rates across the neuronal population\")\n",
        "plt.xlabel(\"neuron # (sorted by firing rate)\")\n",
        "plt.ylabel(\"firing rate, Hz\")"
      ]
    },
    {
      "cell_type": "markdown",
      "metadata": {
        "id": "PRLcvT8NL2Rn"
      },
      "source": [
        "Remember, in this tutorial we are interested in the **neuronal population**: how individual neurons talk to each other and collectively process information.\n",
        "\n",
        "Let us remove it by z-scoring the responses. *Z-scoring means subtracting the mean and dividing by the standard deviation (which we already calculated above).*"
      ]
    },
    {
      "cell_type": "markdown",
      "metadata": {
        "id": "p0q8sSELL2Ro"
      },
      "source": [
        "### Exercise 1b: Z-score the data"
      ]
    },
    {
      "cell_type": "code",
      "execution_count": null,
      "metadata": {
        "id": "DJkV5U6sL2Ro"
      },
      "outputs": [],
      "source": [
        "# TODO: Z-score the data\n",
        "Z_scored_X = ...\n",
        "\n",
        "plt.figure(figsize=(20, 4))\n",
        "plt.imshow(\n",
        "    Z_scored_X[:,: T // 10],\n",
        "    vmin=-1,\n",
        "    vmax=1,\n",
        "    aspect=5,\n",
        "    interpolation=\"None\",\n",
        "    cmap=\"inferno\",\n",
        ")\n",
        "plt.title(\"Trial-to-trial variability in responses of the neuronal population\")\n",
        "plt.xlabel(\"trial #\")\n",
        "plt.ylabel(\"neuron #\")\n",
        "plt.yticks(np.arange(0, n_neurons, 2))\n",
        "plt.colorbar(aspect=10, pad=0.02, label=\"z-scored response\")\n",
        "plt.show()"
      ]
    },
    {
      "cell_type": "code",
      "execution_count": null,
      "metadata": {
        "id": "9X1ru1gQL2Ro"
      },
      "outputs": [],
      "source": [
        "if not os.path.exists(\"1_z-scored.gif\"):\n",
        "    make_a_gif(\n",
        "        \"Z-scored responses\",\n",
        "        \"1_z-scored.gif\",\n",
        "        Z_scored_X[:,: T // 10],  # visualizing first 10% of the data\n",
        "        rois,\n",
        "        vmin=-1,\n",
        "        vmax=1,\n",
        "    )\n",
        "Image(filename=\"1_z-scored.gif\")"
      ]
    },
    {
      "cell_type": "markdown",
      "metadata": {
        "id": "2qNneYAxL2Rp"
      },
      "source": [
        "### **Think!**\n",
        "\n",
        "Based on the video and 2D raster plot above, can you tell which neurons might be working together?"
      ]
    },
    {
      "cell_type": "markdown",
      "metadata": {
        "id": "prd0mahzL2Rp"
      },
      "source": [
        "### Exercise 2: Find neurons that work in sync\n",
        "Inform your guess based on the above visualization of the trial-to-trial variability."
      ]
    },
    {
      "cell_type": "code",
      "execution_count": null,
      "metadata": {
        "id": "sX_uDTjmL2Rp"
      },
      "outputs": [],
      "source": [
        "# TODO: Pick the neurons that you think fire together\n",
        "n1, n2 = ... , ....\n",
        "data_pair = X[[n1, n2]]  # taking a subset of 2 neurons from the population recording\n",
        "plt.scatter(*data_pair, alpha=0.1)\n",
        "plt.xlabel(f\"activity of neuron #{n1}, Hz\")\n",
        "plt.ylabel(f\"activity of neuron #{n2}, Hz\")\n",
        "plt.show()"
      ]
    },
    {
      "cell_type": "markdown",
      "metadata": {
        "id": "wsa1gliP4Pj-"
      },
      "source": [
        "If you indeed selected a *correlated* pair of neurons (such as #0 and #2), you would see that whenever the activity of the first one is high (low), the activity of the other one is also high (low). They generally tend to fire together!"
      ]
    },
    {
      "cell_type": "markdown",
      "metadata": {
        "id": "Apfw3oKGLl3B"
      },
      "source": [
        "## Describing joint neuronal activity with a multivariate Gaussian\n"
      ]
    },
    {
      "cell_type": "markdown",
      "metadata": {
        "id": "Goocu_Q4Lxs1"
      },
      "source": [
        "The joint distribution of activity of these 2 neurons resemble a multivariate Gaussian, which typically looks like this:\n",
        "\n",
        "<p align='center'><img src='https://raw.githubusercontent.com/NinelK/IMBIZO2023_population_tutorial/main/figures/multivariate_gaussian.png?raw=True'/></p>"
      ]
    },
    {
      "cell_type": "markdown",
      "metadata": {
        "id": "70AQEb3ONm_c"
      },
      "source": [
        "The probability density function for the multivariate Gaussian is:\n",
        "\n",
        "$\\mathrm{pdf}(\\mathbf{x}) \\propto \\exp(-\\mathbf{x}^T\\Sigma^{-1} \\mathbf{x})$ \n",
        "\n",
        "A multivariate D-dimensional Gaussian is characterized by 2 sets of parameters:\n",
        "* the mean $\\mathbf{\\mu}$ (a $[D]$-dimensional vector)\n",
        "* the covariance $\\Sigma$ (an $[D \\times D]$ matrix)\n",
        "\n",
        "One of the simplest ways to fit the Gaussian distribution to the data is *via* so-called **moment-matching**: calculating means, variances and co-variances of the datapoints."
      ]
    },
    {
      "cell_type": "markdown",
      "metadata": {
        "id": "S4yBgrv-PD6L"
      },
      "source": [
        "First we'll calculate the mean:\n",
        "\n",
        "$$\\mathbf{\\mu} = \\mathop{\\mathbb{E}}[\\mathbf{x}] = \\frac{1}{n_\\mathrm{trials}}\\sum_{i=1}^{n_\\mathrm{trials}} \\mathbf{x}_i $$\n",
        "\n",
        "For example, a 2D *population* vector for 2 neurons.\n",
        "\n",
        "*Notation:* The variables in **bold** here correspond to vectors, e.g., here $\\mathbf{x} = (x_1,x_2)^\\text{T}$. Additionally, $\\mathbf{x}_i$ above corresponds to population activity vector recorded in trial $i$."
      ]
    },
    {
      "cell_type": "markdown",
      "metadata": {
        "id": "c5ma7m8nL2Rr"
      },
      "source": [
        "### Exercise 3a: Compute mean responses for each neuron"
      ]
    },
    {
      "cell_type": "code",
      "execution_count": null,
      "metadata": {
        "id": "tR-u0_x0LxGk"
      },
      "outputs": [],
      "source": [
        "# TODO: compute mean responses for a pair of neurons\n",
        "mu = data_pair.mean(..., keepdims=True)  # TODO: remove solution\n",
        "print(mu)"
      ]
    },
    {
      "cell_type": "markdown",
      "metadata": {
        "id": "kcbk-xfnPmb6"
      },
      "source": [
        "### Exercise 3b: Compute the covariance between activities of these neurons\n",
        "\n",
        "Next, we calculate the covariance matrix for these neurons:\n",
        "\n",
        "$$ \\Sigma = \\mathop{\\mathbb{E}} \\left[ (\\mathbf{x}-\\mathbf{\\mu})^2 \\right] = \\frac{1}{n_\\mathrm{trials}}\\sum_{i=1}^{n_{trials}} (\\mathbf{x}_i - \\mathbf{\\mu})(\\mathbf{x}_i - \\mathbf{\\mu})^\\text{T} $$"
      ]
    },
    {
      "cell_type": "code",
      "execution_count": null,
      "metadata": {
        "id": "8ARvrwpELri_"
      },
      "outputs": [],
      "source": [
        "x_centered = data_pair - mu\n",
        "# TODO: compute sample covariance for a pair of neurons\n",
        "cov = ...\n",
        "print(cov)"
      ]
    },
    {
      "cell_type": "markdown",
      "metadata": {
        "id": "-7Qivd0FL2Rs"
      },
      "source": [
        "*Note: since we removed the stimulus-related mean responses ('stimulus correlation'), only trial-to-trial variability is left. These correlations between trial-to-trial difference in neuronal responses are called 'noise correlations'. Noise correlations give us a hint of what the neuronal connectivity can be, as we will see at the end of the tutorial.* "
      ]
    },
    {
      "cell_type": "markdown",
      "metadata": {
        "id": "fw2xTpcYL2Rs"
      },
      "source": [
        "# What happens to the covariance if we change the basis?"
      ]
    },
    {
      "cell_type": "markdown",
      "metadata": {
        "id": "ryTfLIn4L2Rt"
      },
      "source": [
        "We are interested in finding the low-dimensional representation of the neuronal population data. This means that we want to *change the coordinates*, and keep only some of the dimensions. \n",
        "\n",
        "Let us see how the covariance matrix change under the change of coordinates:\n",
        "\n",
        "$\\mathbf{x} \\rightarrow S\\mathbf{\\hat{x}}$\n"
      ]
    },
    {
      "cell_type": "markdown",
      "source": [
        "Now let us see how the exponent of the $\\mathrm{pdf}(\\mathbf{x})$ changes under this change of coordinates:"
      ],
      "metadata": {
        "id": "gqXli2xyhRPK"
      }
    },
    {
      "cell_type": "markdown",
      "source": [
        "\n",
        "$\\mathbf{x}^\\mathrm{T}\\Sigma^{-1} \\mathbf{x} \n",
        "\\rightarrow \n",
        "(S\\mathbf{\\hat{x}})^\\mathrm{T}\\Sigma^{-1} (S\\mathbf{\\hat{x}}) \n",
        "=\n",
        "\\mathbf{\\hat{x}}^\\mathrm{T}S^\\mathrm{T}\\Sigma^{-1}S\\mathbf{\\hat{x}} \n",
        "=\n",
        "\\mathbf{\\hat{x}}^\\mathrm{T}(S^\\mathrm{T}\\Sigma^{-1}S)\\mathbf{\\hat{x}}\n",
        "=\n",
        "\\mathbf{\\hat{x}}^\\mathrm{T}\\hat\\Sigma^{-1}\\mathbf{\\hat{x}}\n",
        "$\n"
      ],
      "metadata": {
        "id": "2IZy-bz1fKAS"
      }
    },
    {
      "cell_type": "markdown",
      "source": [
        "Let us try rotations:\n",
        "$S = \\begin{bmatrix}\n",
        "    \\cos(\\alpha) & \\sin(\\alpha) \\\\\n",
        "    -\\sin(\\alpha) & \\cos(\\alpha) \n",
        "\\end{bmatrix}$"
      ],
      "metadata": {
        "id": "pk67KxnGmenu"
      }
    },
    {
      "cell_type": "code",
      "execution_count": null,
      "metadata": {
        "id": "yIspHrhrL2Rt"
      },
      "outputs": [],
      "source": [
        "@widgets.interact\n",
        "def plot_responses(α = widgets.FloatSlider(min=-np.pi, max=np.pi, step=0.01, value=0)):\n",
        "    α = α if type(α) == float else α.value\n",
        "    S = np.array([[np.cos(α), np.sin(α)], [-np.sin(α), np.cos(α)]])\n",
        "    transformed_data = S @ x_centered\n",
        "    plt.scatter(*transformed_data, alpha=0.1)\n",
        "    plt.xlabel(f\"variable #{n1}\")\n",
        "    plt.ylabel(f\"variable #{n2}\")\n",
        "    plt.xlim([-2, 2])\n",
        "    plt.ylim([-2, 2])\n",
        "    plt.axvline(0, linestyle=':', c='k')\n",
        "    plt.axhline(0, linestyle=':', c='k')\n",
        "    A = S @ cov @ S.T\n",
        "    plt.text(2.2, 0, r'$\\hat\\Sigma$ = ')\n",
        "    plt.text(2.7, -.15,\n",
        "             f'{A[0,0]:.2f}, {A[0,1]:.2f} \\n{A[1,0]:.2f}, {A[1,1]:.2f}')\n",
        "    plt.show()\n",
        "    plt.close()\n"
      ]
    },
    {
      "cell_type": "markdown",
      "metadata": {
        "id": "-L332ML9L2Ru"
      },
      "source": [
        "# WHITEBOARD recap of eigenvalue decomposition"
      ]
    },
    {
      "cell_type": "markdown",
      "metadata": {
        "id": "axQZtaKtL2Ru"
      },
      "source": [
        "### Eigenvectors and eigenvalues (**skip during the tutorial**, that is for revising later if needed)"
      ]
    },
    {
      "cell_type": "markdown",
      "metadata": {
        "id": "6QmRfUHHL2Ru"
      },
      "source": [
        "What we did above in fact corresponds to the eigendecomposition.\n",
        "For more info check Chris's tutorial [Appendix](https://colab.research.google.com/drive/1AH5_d_uJTnJMUANGt9XIIkkg8n2Tur4s)."
      ]
    },
    {
      "cell_type": "markdown",
      "metadata": {
        "id": "tCpDugvkL2Rv"
      },
      "source": [
        "## Change the basis from (neuron 0, neuron 1) -> eigenvector 0-1"
      ]
    },
    {
      "cell_type": "code",
      "execution_count": null,
      "metadata": {
        "id": "fLsdoBJDOj_Y"
      },
      "outputs": [],
      "source": [
        "(𝜆, v) = descending_eigh(cov)\n",
        "print(f'The eigenvalues are: {𝜆}, and the eigenvectors \\n{v}')"
      ]
    },
    {
      "cell_type": "code",
      "execution_count": null,
      "metadata": {
        "id": "0fec9_I_RaKi"
      },
      "outputs": [],
      "source": [
        "plt.figure(figsize=(5, 5))\n",
        "plt.scatter(*x_centered, alpha=0.1)\n",
        "plt.arrow(\n",
        "    0,\n",
        "    0,\n",
        "    *(v[:, 0]),\n",
        "    color=\"#FF1122\",\n",
        "    linewidth=2,\n",
        "    label=\"First eigenvector (larger eigenvalue)\"\n",
        ")\n",
        "plt.arrow(0, 0, *(v[:, 1]), color=\"#11FFAA\", linewidth=2, label=\"Second eigenvector\")\n",
        "plt.xlabel(\"activity of neuron #0 (centered)\")\n",
        "plt.ylabel(\"activity of neuron #1 (centered)\")\n",
        "plt.title(\"Eigenvectors of the covariance matrix\")\n",
        "r = 2  # plot range\n",
        "plt.xlim([-r, r])\n",
        "plt.ylim([-r, r])\n",
        "plt.legend(loc=(1.1, 0))\n",
        "plt.show()"
      ]
    },
    {
      "cell_type": "markdown",
      "metadata": {
        "id": "K7pTSd1hL2Rw"
      },
      "source": [
        "*Note,* that the eigenvectors of the covariance matrix always form an **orthonormal basis** (due to the symmetry of the covariance matrix). We can double-check that:"
      ]
    },
    {
      "cell_type": "code",
      "execution_count": null,
      "metadata": {
        "id": "_xqbfY1sL2Rw"
      },
      "outputs": [],
      "source": [
        "print(\"Is the dot product of eigenvectors = 0 ?\")\n",
        "np.allclose(np.dot(v[:, 0], v[:, 1]), 0)"
      ]
    },
    {
      "cell_type": "markdown",
      "metadata": {
        "id": "WbWWSmBIL2Rx"
      },
      "source": [
        "## Projecting the activity on eigenvectors"
      ]
    },
    {
      "cell_type": "markdown",
      "metadata": {
        "id": "M8Hqv9SpL2Rx"
      },
      "source": [
        "### **Exercise 4.** Project the activity of pair of neurons on the eigenvectors"
      ]
    },
    {
      "cell_type": "code",
      "execution_count": null,
      "metadata": {
        "id": "XOGQ09_xO6eL"
      },
      "outputs": [],
      "source": [
        "plt.figure(figsize=(5, 5))\n",
        "# TODO: project the centered activity x_centered on the eigenvectors\n",
        "x_projected = ...\n",
        "\n",
        "plt.scatter(*x_projected, alpha=0.1)  # here we subtract the mean (center the data)\n",
        "plt.arrow(\n",
        "    0,\n",
        "    0,\n",
        "    1,\n",
        "    0,\n",
        "    color=\"#FF1122\",\n",
        "    linewidth=2,\n",
        "    label=\"First eigenvector (larger eigenvalue)\",\n",
        ")\n",
        "plt.arrow(0, 0, 0, 1, color=\"#11FFAA\", linewidth=2, label=\"Second eigenvector\")\n",
        "plt.xlabel(\"eigenvector #0\")\n",
        "plt.ylabel(\"eigenvector #1\")\n",
        "plt.title(\"Neuronal activity in the eigenvector basis\")\n",
        "r = 2  # plot range\n",
        "plt.xlim([-r, r])\n",
        "plt.ylim([-r, r])\n",
        "plt.legend(loc=(1.1, 0))\n",
        "plt.show()"
      ]
    },
    {
      "cell_type": "markdown",
      "metadata": {
        "id": "H_XHHEKQO2DR"
      },
      "source": [
        "### **Think!**\n",
        "\n",
        "Suppose we want to reduce the dimensionality of this data from 2D -> 1D. Which direction is the most informative about the activity of both neurons?"
      ]
    },
    {
      "cell_type": "markdown",
      "metadata": {
        "id": "blFUL1wqL2Rx"
      },
      "source": [
        "# WHITEBOARD PCA"
      ]
    },
    {
      "cell_type": "markdown",
      "metadata": {
        "id": "aYYuH1uV4DUY"
      },
      "source": [
        "# Principle component analysis (PCA)"
      ]
    },
    {
      "cell_type": "markdown",
      "metadata": {
        "id": "cgIdXp2KKOb7"
      },
      "source": [
        "## Step-by-step"
      ]
    },
    {
      "cell_type": "markdown",
      "metadata": {
        "id": "GstJ8NXRKSDS"
      },
      "source": [
        "Let us return to our larger, 20D z-scored dataset:"
      ]
    },
    {
      "cell_type": "code",
      "execution_count": null,
      "metadata": {
        "id": "Fvq0tgWsMIfq"
      },
      "outputs": [],
      "source": [
        "plt.figure(figsize=(20, 4))\n",
        "plt.imshow(\n",
        "    Z_scored_X[:,: T // 10],\n",
        "    vmin=-1,\n",
        "    vmax=1,\n",
        "    aspect=5,\n",
        "    interpolation=\"None\",\n",
        "    cmap=\"inferno\",\n",
        ")\n",
        "plt.title(\"Trial-to-trial variability in responses of the neuronal population\")\n",
        "plt.xlabel(\"trial #\")\n",
        "plt.ylabel(\"neuron #\")\n",
        "plt.yticks(np.arange(n_neurons))\n",
        "plt.colorbar(aspect=10, pad=0.02, label=\"z-scored response\")\n",
        "plt.show()\n",
        "# help(plt.colorbar)"
      ]
    },
    {
      "cell_type": "markdown",
      "metadata": {
        "id": "CsqGwkhgKs7Y"
      },
      "source": [
        "### **Exercise 5** Compute the sample covariance for a larger population (20D)\n",
        "\n",
        "TODO: notation\n",
        "\n",
        "Next, we calculate the sample covariance matrix for these neurons\n",
        "\n",
        "$$\\Sigma = \\mathop{\\mathbb{E}} \\left[ (\\mathbf{x}-\\mathbf{\\mu})^2 \\right] = \\frac{1}{n_\\mathrm{trials}}\\sum_{i=1}^{n_\\mathrm{trials}} (\\mathbf{x}_i - \\mathbf{\\mu})(\\mathbf{x}_i - \\mathbf{\\mu})^\\text{T}$$\n",
        "\n",
        "Note, that if we use the *z-scored* data, we automatically obtain the *correlation* matrix, which then coincides with the covariance. By definition, the *correlation* matrix is:\n",
        "\n",
        "$$\\rho_{jk} = \\cfrac{\\sum_i^{n_\\mathrm{trials}}(x_{ij} - \\mu_{ij})(x_{ik} - \\mu_{ik})^\\text{T}}{\\sigma_j \\sigma_k} $$\n",
        "\n",
        "Since $\\sigma_j=1$ for every neuron after z-scoring, the *correlation* matrix here coincides with the *covariance*."
      ]
    },
    {
      "cell_type": "code",
      "execution_count": null,
      "metadata": {
        "id": "ogvPO7zzLHt0"
      },
      "outputs": [],
      "source": [
        "# Calculate sample covariance\n",
        "cov = ...\n",
        "\n",
        "plt.figure()\n",
        "plt.imshow(cov)\n",
        "plt.show()"
      ]
    },
    {
      "cell_type": "code",
      "execution_count": null,
      "metadata": {
        "id": "-IuJ5rWIKQoZ"
      },
      "outputs": [],
      "source": [
        "𝜆, v = descending_eigh(cov)\n",
        "\n",
        "plt.figure()\n",
        "plt.plot(𝜆)\n",
        "plt.scatter(np.arange(len(𝜆)), 𝜆)\n",
        "plt.title(\"Scree plot (eigenspectrum)\")  # TODO: check notation\n",
        "plt.xlabel(\"# component\")\n",
        "plt.ylabel(\"eigenvalue\")\n",
        "plt.show()"
      ]
    },
    {
      "cell_type": "markdown",
      "metadata": {
        "id": "u-xuDhiML2Rz"
      },
      "source": [
        "## From eigenvalues to variance explained"
      ]
    },
    {
      "cell_type": "markdown",
      "metadata": {
        "id": "frcJfEnVL2R0"
      },
      "source": [
        "Sample covariance in the eigenvector basis assumes a simple form ($\\Sigma_0$ -- diagonal matrix):\n",
        "\n",
        "$$\n",
        "\\newcommand{\\vertbar}{\\rule[-1ex]{0.5pt}{2.5ex}}\n",
        "\\newcommand{\\horzbar}{\\rule[.5ex]{2.5ex}{0.5pt}}\n",
        "\\Sigma \n",
        "= \n",
        "\\begin{bmatrix}\n",
        "    \\horzbar & v_0 & \\horzbar \\\\\n",
        "    \\horzbar & v_1 & \\horzbar \\\\\n",
        "    \\horzbar & v_2 & \\horzbar\n",
        "\\end{bmatrix} \n",
        "\\underbrace{\\begin{bmatrix}\n",
        "    \\lambda_0 & 0 & 0 \\\\\n",
        "    0 & \\lambda_1 & 0 \\\\\n",
        "    0 & 0 & \\lambda_2\n",
        "\\end{bmatrix}}_{\\Sigma_0} \n",
        "\\begin{bmatrix}\n",
        "    \\vertbar & \\vertbar & \\vertbar \\\\\n",
        "    v_0 & v_1 & v_2 \\\\\n",
        "    \\vertbar & \\vertbar & \\vertbar\n",
        "\\end{bmatrix}\n",
        "$$"
      ]
    },
    {
      "cell_type": "code",
      "execution_count": null,
      "metadata": {
        "id": "zap7BbomL2R0"
      },
      "outputs": [],
      "source": [
        "# checking that the above equation is indeed satisfied\n",
        "np.allclose(cov, v @ (np.eye(len(𝜆)) * 𝜆) @ v.T)"
      ]
    },
    {
      "cell_type": "markdown",
      "metadata": {
        "id": "k_SYZGmAL2R0"
      },
      "source": [
        "From the form of $\\Sigma_0$ (diagonal) we can see that there is no covariance between the components aligned with the eigenvectors."
      ]
    },
    {
      "cell_type": "markdown",
      "metadata": {
        "id": "y7l2pBqTL2R0"
      },
      "source": [
        "### **Exercise 6a** Calculate the total variance of the data\n",
        "Note: Both $\\Sigma$ and $\\Sigma_0$ must have the same total variance, since one is obtained from the other via an orthonormal transformation. But it is easier to see the answer in $\\Sigma_0$"
      ]
    },
    {
      "cell_type": "code",
      "execution_count": null,
      "metadata": {
        "id": "J07v_AUrL2R0"
      },
      "outputs": [],
      "source": [
        "# TODO: compute total variance (using 𝜆)\n",
        "total_variance = ..."
      ]
    },
    {
      "cell_type": "markdown",
      "metadata": {
        "id": "D3pVVwZjL2R1"
      },
      "source": [
        "### **Exercise 6b** Calculate the variance in the first 3 PC components"
      ]
    },
    {
      "cell_type": "code",
      "execution_count": null,
      "metadata": {
        "id": "GBjyg33XL2R1"
      },
      "outputs": [],
      "source": [
        "# TODO: compute variance in top-3 components (using 𝜆)\n",
        "top_variance = ..."
      ]
    },
    {
      "cell_type": "markdown",
      "metadata": {
        "id": "I7nYE_GkL2R1"
      },
      "source": [
        "### **Exercise 6c** Plot variance explained as a function of the number of components\n",
        "\n",
        "$\\mathrm{fraction~of~variance~explained} = \\cfrac{\\mathrm{variance~in~top~components}}{\\mathrm{total~variance}} = \\cfrac{\\sum_i^{n} \\lambda_i}{\\sum_i^{N} \\lambda_i}$"
      ]
    },
    {
      "cell_type": "code",
      "execution_count": null,
      "metadata": {
        "id": "SmEfdi9JL2R1"
      },
      "outputs": [],
      "source": [
        "# make a vector of size [N] for variance in top components; hint: use cumsum\n",
        "variance_in_top_components = ...\n",
        "\n",
        "plt.plot(variance_in_top_components / total_variance)\n",
        "plt.xlabel(\"# of components\")\n",
        "plt.ylabel(\"fraction of variance explained\")\n",
        "plt.title(\" \")\n",
        "plt.show()"
      ]
    },
    {
      "cell_type": "markdown",
      "metadata": {
        "id": "1o-qvzgIT71p"
      },
      "source": [
        "## Identifying population vectors"
      ]
    },
    {
      "cell_type": "code",
      "execution_count": null,
      "metadata": {
        "id": "MTWe_8gJT7Fp"
      },
      "outputs": [],
      "source": [
        "# TODO: label axes & show the plot again\n",
        "fig, ax = plt.subplots(1, 2)\n",
        "ax[0].imshow(v[:, :3], vmin=-0.3, vmax=0.3, cmap=\"RdBu\")\n",
        "ax[1].imshow(C, vmin=-1, vmax=1, cmap=\"RdBu\")\n",
        "for axis in ax:\n",
        "    axis.set_xlabel('# component')\n",
        "    axis.set_ylabel('# neuron')\n",
        "plt.show()"
      ]
    },
    {
      "cell_type": "markdown",
      "metadata": {
        "id": "DMPXyM9HyuZE"
      },
      "source": [
        "## **Exercise 7**: Using *sklearn*"
      ]
    },
    {
      "cell_type": "code",
      "execution_count": null,
      "metadata": {
        "id": "OkmfIeFLA8Xb"
      },
      "outputs": [],
      "source": [
        "from sklearn.decomposition import PCA\n",
        "\n",
        "# check help\n",
        "help(PCA.fit_transform)"
      ]
    },
    {
      "cell_type": "code",
      "execution_count": null,
      "metadata": {
        "id": "C1UXZSMxL2R3"
      },
      "outputs": [],
      "source": [
        "pca = PCA(n_components=3)\n",
        "# feed in [sample x features] data\n",
        "pcs = pca.fit_transform(...) \n",
        "pcs.shape"
      ]
    },
    {
      "cell_type": "code",
      "execution_count": null,
      "metadata": {
        "id": "8L-FXiwTIkEe"
      },
      "outputs": [],
      "source": [
        "# check that top eigenvalues are the same\n",
        "np.allclose(pca.explained_variance_, 𝜆[:3], 0.1)"
      ]
    },
    {
      "cell_type": "code",
      "execution_count": null,
      "metadata": {
        "id": "_B9oOrwCI21m"
      },
      "outputs": [],
      "source": [
        "# variance explained\n",
        "pca.explained_variance_ratio_"
      ]
    },
    {
      "cell_type": "code",
      "execution_count": null,
      "metadata": {
        "id": "OSyuabZuBRXZ"
      },
      "outputs": [],
      "source": [
        "fig, ax = plt.subplots(1, 2)\n",
        "ax[0].imshow(pca.components_.T, vmin=-0.3, vmax=+0.3, cmap=\"RdBu\")\n",
        "ax[1].imshow(-C, vmin=-1, vmax=+1, cmap=\"RdBu\")\n",
        "for axis in ax:\n",
        "    axis.set_xlabel('# component')\n",
        "    axis.set_ylabel('# neuron')\n",
        "plt.show()"
      ]
    },
    {
      "cell_type": "markdown",
      "metadata": {
        "id": "mPwF8gL4L2R4"
      },
      "source": [
        "# Conclusion\n",
        "\n",
        "In this tutorial we:\n",
        "* explored how to act when you encounter a new dataset (visualize! check a few neurons!).\n",
        "* learned the ideas and math behind the principle component analysis (PCA).\n",
        "* applied PCA (custom-made and *sklearn*) and successfully reconstructed the network connectivity.\n",
        "\n",
        "Let us now take a break and then discuss the limitations of our analysis. When does it work? When does it not? Let's find out! 🐶"
      ]
    }
  ],
  "metadata": {
    "colab": {
      "provenance": [],
      "collapsed_sections": [
        "iM98r9QeLNFx",
        "ooX3iFfYL2Rm"
      ],
      "toc_visible": true,
      "include_colab_link": true
    },
    "kernelspec": {
      "display_name": "Python 3 (ipykernel)",
      "language": "python",
      "name": "python3"
    },
    "language_info": {
      "codemirror_mode": {
        "name": "ipython",
        "version": 3
      },
      "file_extension": ".py",
      "mimetype": "text/x-python",
      "name": "python",
      "nbconvert_exporter": "python",
      "pygments_lexer": "ipython3",
      "version": "3.11.2"
    },
    "gpuClass": "standard"
  },
  "nbformat": 4,
  "nbformat_minor": 0
}