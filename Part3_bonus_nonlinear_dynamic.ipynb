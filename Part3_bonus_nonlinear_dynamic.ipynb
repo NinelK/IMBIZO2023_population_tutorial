{
  "cells": [
    {
      "cell_type": "markdown",
      "metadata": {
        "id": "view-in-github",
        "colab_type": "text"
      },
      "source": [
        "<a href=\"https://colab.research.google.com/github/NinelK/IMBIZO2023_population_tutorial/blob/main/Part3_bonus_nonlinear_dynamic.ipynb\" target=\"_parent\"><img src=\"https://colab.research.google.com/assets/colab-badge.svg\" alt=\"Open In Colab\"/></a>"
      ]
    },
    {
      "cell_type": "markdown",
      "id": "509faa0e-b5a6-45ae-94c1-ebabe8083c5c",
      "metadata": {
        "id": "509faa0e-b5a6-45ae-94c1-ebabe8083c5c",
        "tags": []
      },
      "source": [
        "# Bonus: Nonlinear dynamical systems"
      ]
    },
    {
      "cell_type": "markdown",
      "id": "ba4983bf",
      "metadata": {
        "id": "ba4983bf"
      },
      "source": [
        "## Setups"
      ]
    },
    {
      "cell_type": "code",
      "execution_count": null,
      "id": "040c25d8",
      "metadata": {
        "cellView": "form",
        "id": "040c25d8"
      },
      "outputs": [],
      "source": [
        "# @title Imports and setup\n",
        "from functools import partial\n",
        "import matplotlib.pyplot as plt\n",
        "import numpy as np\n",
        "import ipywidgets as widgets       # interactive display\n",
        "from matplotlib import rcParams\n",
        "from scipy.linalg import expm\n",
        "from scipy.optimize import minimize\n",
        "rcParams.update({'font.size': 18})"
      ]
    },
    {
      "cell_type": "markdown",
      "id": "1d588207-516b-4852-bbfd-bf6b7e8109dc",
      "metadata": {
        "id": "1d588207-516b-4852-bbfd-bf6b7e8109dc",
        "tags": []
      },
      "source": [
        "### Dimensionality reduction on Hodgkin-Huxley model\n",
        "\n",
        "Yesterday you have run simulations of a biophysically accurate neuron models with a Hodgkin-Huxley equation (HH). To recap, the set of HH equations contained the following 4 equations:\n",
        "\n",
        "$$C \\frac{dV}{dt} = -\\bar g_K n^4 (V - V_K) - \\bar g_{Na} m^3 h(V-V_{Na}) - \\bar g_l (V - V_l) + I_{ext}\\tag{4a}$$\n",
        "\n",
        "$$\\frac{dn}{dt} = \\alpha_n(V)(1-n) - \\beta_n(V) n\\tag{4b}$$\n",
        "$$\\frac{dm}{dt} = \\alpha_m(V)(1-m) - \\beta_m(V) m\\tag{4c}$$\n",
        "$$\\frac{dh}{dt} = \\alpha_h(V)(1-h) - \\beta_h(V) h\\tag{4d}$$\n",
        "\n",
        "The state space of this model is 4D, which is too much for visualization and analyse.\n",
        "However, not all equations here are equally important. \n",
        "\n",
        "<p align='center'><img src='https://raw.githubusercontent.com/NinelK/IMBIZO2023_population_tutorial/main/figures/hh_gates.jpg?raw=True'/></p>\n",
        "\n",
        "\n",
        "**Fig. 1a**  The equilibrium functions for the three variables $m, n, h$ | **Fig. 1b** The voltage dependent time constants"
      ]
    },
    {
      "cell_type": "markdown",
      "id": "6f671d00-501e-48e6-827a-8358ff6d9e71",
      "metadata": {
        "id": "6f671d00-501e-48e6-827a-8358ff6d9e71"
      },
      "source": [
        "#### Step 1. Time scale separation between fast ($V$) and very-fast ($m$) variables\n",
        "\n",
        "  First, we can look at the timescales of different equations (Fig. 1a).  We see that sodium channel activation $m$ changes much faster than other gating variables, faster than a single spike ($<$1ms).\n",
        "Therefore, we can assume that equation (4c) always quickly reaches equilibrium $dm/dt=0$, and substitute eq. (4c) with a *quasi-steady state* approximation $m(t) = m_0(V(t))$. Thus, we get rid of a differential equation (4c)."
      ]
    },
    {
      "cell_type": "markdown",
      "id": "cce82353-d268-46fe-b335-c6a5c9e4743d",
      "metadata": {
        "id": "cce82353-d268-46fe-b335-c6a5c9e4743d"
      },
      "source": [
        "#### Step 2. Merging two similar slow equations ($n$ and $h$)\n",
        "\n",
        "  From Fig.1a we also see that both sodium channel inactivation $h$ and potassium channel gating $n$ change slowly (on a scale of 5-10ms). We can also notice that in Fig.1b $n(V)$ looks roughly like $1-h(V)$ (not exactly, but it is an approximation).\n",
        "So, since these two variables have similar dependencies on both time and voltage, we can substitute them with a single variable $w$ that approximates both gating variables. Thus, we merge eq. (4b) and (4d) into one. "
      ]
    },
    {
      "cell_type": "markdown",
      "id": "38c124ef-baa8-421d-aec3-598ceac78853",
      "metadata": {
        "id": "38c124ef-baa8-421d-aec3-598ceac78853"
      },
      "source": [
        "#### Result: 2D FitzHugh-Nagumo (FHN) model\n",
        "\n",
        "Following 2 steps above, we merged 2 **fast** equations and 2 **slow** equations, which results in the following model:\n",
        "\n",
        "\\begin{align}\n",
        "\\mathrm{\\mathbf{Fast:}} \\quad\\frac{dV}{dt} &= V(1-V)(V-V_{thr}) - w + i_{ext} \\tag{5a}\\\\\n",
        "\\mathrm{\\mathbf{Slow:}} ~\\quad \\frac{dw}{dt} &= \\epsilon (\\beta V - w) \\tag{5b}\n",
        "\\end{align}\n",
        "\n",
        "here some coefficients like time constants and capacitance of the membrane are typically omitted for simplicity.\n",
        "\n",
        "The two equations are also often called **fast activator** and **slow inhibitor**. Because the first equation describes cell's depolarization and sodium channel opening (activation), while the second equation describes everything that works towards repolarization (potassium currents + sodium channels' inactivation).\n",
        "The parameter responsible for fast/slow timescales separation is $\\epsilon$, which is typically set to $0.01$ (i.e. 5b is 100x slower than 5a).\n",
        "\n",
        "Now that we have a 2D system, we can visualize its phase portrait!"
      ]
    },
    {
      "cell_type": "markdown",
      "id": "cdd8e6f0-0893-4f47-b316-c0a984538764",
      "metadata": {
        "id": "cdd8e6f0-0893-4f47-b316-c0a984538764"
      },
      "source": [
        "### Phase portrait of FHN"
      ]
    },
    {
      "cell_type": "code",
      "execution_count": null,
      "id": "c6e61fd8-949c-4aa4-97d6-0ce7736c4923",
      "metadata": {
        "id": "c6e61fd8-949c-4aa4-97d6-0ce7736c4923"
      },
      "outputs": [],
      "source": [
        "# Plotting phase portraits\n",
        "def plot_FHN_phase_portrait(i_ext,V_thr,beta,\n",
        "                            V_null = None, w_null = None,\n",
        "                            V_min = -.5, V_max = 1.2,\n",
        "                            w_min = -.1, w_max = .2,\n",
        "                            eps=0.01,n=30):\n",
        "    '''\n",
        "    Plots a phase portrait for a FitzHugh-Nagumo model (eq. 5)\n",
        "    n: number of points in the n x n grid\n",
        "    '''\n",
        "    plt.figure(figsize=(5,5))\n",
        "    V_grid = np.linspace(V_min,V_max, n) # a 1D activator grid\n",
        "    w_grid = np.linspace(w_min,w_max, n) # a 1D inhibitor grid\n",
        "    x = np.array(np.meshgrid(V_grid, w_grid)).reshape((2,-1)) # a 2D flattened grid\n",
        "    V, w = x\n",
        "    V_dot = ... # TODO: implement FitzHugh-Nagumo \n",
        "    w_dot = ... # \n",
        "    plt.streamplot(V_grid,w_grid,V_dot.reshape(n,n),w_dot.reshape(n,n),\n",
        "                 color=np.linalg.norm(np.array([V_dot,w_dot]),axis=0).reshape(n,n),\n",
        "                 cmap='coolwarm',density=1.5)\n",
        "    if V_null is not None:\n",
        "        plt.plot(V_grid,V_null(V_grid,V_thr,i_ext),c='k')\n",
        "    if w_null is not None:\n",
        "        plt.plot(V_grid,w_null(V_grid,beta),c='k')\n",
        "    plt.xlabel('fast activator V')\n",
        "    plt.ylabel('slow inhibitor w')\n",
        "    plt.xlim([V_min,V_max])\n",
        "    plt.ylim([w_min,w_max])\n",
        "    plt.clim(vmin=0,vmax=.2)\n",
        "\n",
        "@widgets.interact\n",
        "def interactive_FHN_portrait(i_ext=widgets.FloatSlider(min=-.2, max=.3, value=0), \n",
        "                            V_thr=widgets.FloatSlider(min=0, max=1, value=0.2),\n",
        "                            beta=widgets.FloatSlider(min=0.05, max=.5, value=.4),):\n",
        "    plot_FHN_phase_portrait(i_ext,V_thr,beta)"
      ]
    },
    {
      "cell_type": "markdown",
      "id": "fecd3da6-6aad-411a-a0bb-3bd3a4ac921b",
      "metadata": {
        "id": "fecd3da6-6aad-411a-a0bb-3bd3a4ac921b"
      },
      "source": [
        "Looks very complicated! Although, if we look at some parts of the phase plane, locally it might resemble some of the patterns of an LDS behavior that we have seen before. (by the way, which ones?)"
      ]
    },
    {
      "cell_type": "markdown",
      "id": "9c2c00ef-6d17-4ff0-a28a-29dd068f1cf0",
      "metadata": {
        "id": "9c2c00ef-6d17-4ff0-a28a-29dd068f1cf0"
      },
      "source": [
        "### Fixed points, nullclines, stability"
      ]
    },
    {
      "cell_type": "markdown",
      "id": "cc912eae-2052-4487-b23a-fc79bd1e5d77",
      "metadata": {
        "id": "cc912eae-2052-4487-b23a-fc79bd1e5d77"
      },
      "source": [
        "While linear systems had just one fixed point, non-linear systems can have many. Moreover, even the number of fixed points can change depending on the parameters (like $V_{thr}$ or $\\gamma$) 🤯\n",
        "\n",
        "We can find fixed points, by dealing with equations (5a) and (5b) one by one. The set of points where $\\dot V = 0$ is called **$V$-nullcline**. Nullclines divide the phase plane into two parts, based on the sign on the derivative. \n",
        "\n",
        "Let us add the nullclines to the phase portrait. We will define them as functions + learn an additional way to define single-expression functions in python: "
      ]
    },
    {
      "cell_type": "code",
      "execution_count": null,
      "id": "ce86611a-e08a-47fb-a4a0-e8b2650945c3",
      "metadata": {
        "id": "ce86611a-e08a-47fb-a4a0-e8b2650945c3"
      },
      "outputs": [],
      "source": [
        "V_nullcline = None\n",
        "w_nullcline = None\n",
        "@widgets.interact\n",
        "def interactive_FHN_portrait(i_ext=widgets.FloatSlider(min=-.2, max=.3, value=0,step=.01), \n",
        "                            V_thr=widgets.FloatSlider(min=0, max=1, value=0.2),\n",
        "                            beta=widgets.FloatSlider(min=0.05, max=.5, value=.4, step=0.01),):\n",
        "\n",
        "    global V_nullcline, w_nullcline\n",
        "\n",
        "    # OPTION 1 ##############################################################\n",
        "    \n",
        "    # There are two ways to define functions in python.\n",
        "    # 1. def name(args): (function)\n",
        "    #       ... some computations\n",
        "    #       return output\n",
        "    # 2. name = lambda args: output (a lambda-function: 1) has one expression for outputs; 2) does not have to have a name)\n",
        "\n",
        "    # TODO: write equations for nullclines as a function of V: lambda-way\n",
        "    V_nullcline = lambda V, V_thr, i_ext: ...   \n",
        "    w_nullcline = lambda V, beta: ...                            \n",
        "    \n",
        "    # OPTION 2 ##############################################################\n",
        "\n",
        "    # TODO: write equations for nullclines as a function of V: standard-way\n",
        "    def V_nullcline(V, V_thr, i_ext):\n",
        "        return ...\n",
        "    def w_nullcline(V, beta):\n",
        "        return ...\n",
        "\n",
        "    plot_FHN_phase_portrait(i_ext,V_thr,beta,\n",
        "                          V_null = V_nullcline, w_null = w_nullcline)"
      ]
    },
    {
      "cell_type": "markdown",
      "id": "e2ac8fcd-228e-4915-9918-cbfded60f755",
      "metadata": {
        "id": "e2ac8fcd-228e-4915-9918-cbfded60f755"
      },
      "source": [
        "#### Exercise 5: FHN fixed points\n",
        "What is the minimal and maximal number of fixed points we can get?"
      ]
    },
    {
      "cell_type": "markdown",
      "id": "070c31a8-4841-400f-ac41-ea79096dcbb9",
      "metadata": {
        "id": "070c31a8-4841-400f-ac41-ea79096dcbb9"
      },
      "source": [
        "**Solution:** minimal 1, maximal 3"
      ]
    },
    {
      "cell_type": "markdown",
      "id": "21dc694a-a537-43fb-9322-35637ba8c6f0",
      "metadata": {
        "id": "21dc694a-a537-43fb-9322-35637ba8c6f0"
      },
      "source": [
        "### Analysing stability"
      ]
    },
    {
      "cell_type": "markdown",
      "id": "31699389-7352-415b-9099-de9f862b2b7b",
      "metadata": {
        "id": "31699389-7352-415b-9099-de9f862b2b7b"
      },
      "source": [
        "\n",
        "#### Local stability"
      ]
    },
    {
      "cell_type": "markdown",
      "id": "6584350c-74c1-48c8-99d3-4974f8997816",
      "metadata": {
        "id": "6584350c-74c1-48c8-99d3-4974f8997816"
      },
      "source": [
        "\n",
        "Suppose the nullclines are intersecting somewhere in the middle, like this:"
      ]
    },
    {
      "cell_type": "code",
      "execution_count": null,
      "id": "59b93fe2-9636-4dfc-82f9-1ffa22144fd4",
      "metadata": {
        "id": "59b93fe2-9636-4dfc-82f9-1ffa22144fd4"
      },
      "outputs": [],
      "source": [
        "i_ext, V_thr, beta = 0.1, 0.2, 0.4\n",
        "plot_FHN_phase_portrait(i_ext,V_thr,beta,\n",
        "                        V_max=1.3, w_min=0, w_max=.3,\n",
        "                        V_null = V_nullcline, w_null = w_nullcline)"
      ]
    },
    {
      "cell_type": "markdown",
      "id": "3605f790-d23e-40b8-bbc0-5e537719b96e",
      "metadata": {
        "id": "3605f790-d23e-40b8-bbc0-5e537719b96e"
      },
      "source": [
        "We see that globally, in the whole phase plane, the arrows that indicate the derivative $\\mathbf{\\dot x} = [\\dot V, \\dot w]^T$ change their directions in non-trivial ways, because $\\mathbf{\\dot x} = F(\\mathbf{x})$ is non-linear. \n",
        "\n",
        "However, we can locally **linearize** the dynamical system:  approximate the the evolution operator $F(.)$ with a linear function:"
      ]
    },
    {
      "cell_type": "markdown",
      "id": "dfa3baba-52a9-49c8-a61d-c2d520387252",
      "metadata": {
        "id": "dfa3baba-52a9-49c8-a61d-c2d520387252"
      },
      "source": [
        "$$\\mathbf{\\dot x} = F(\\mathbf{x}) \\approx \\left.\\frac{\\partial \\mathbf{F}}{\\partial \\mathbf{x}}\\right |_{x_0} \\mathbf{x} = \n",
        "\\begin{bmatrix}\n",
        "    \\frac{\\partial F_V}{\\partial V} & \\frac{\\partial F_V}{\\partial w}\\\\\n",
        "    \\frac{\\partial F_w}{\\partial V} & \\frac{\\partial F_w}{\\partial w}\n",
        "\\end{bmatrix}_{\\mathbf{x}_0}  \\mathbf{x} + \\mathbf{b}$$"
      ]
    },
    {
      "cell_type": "markdown",
      "id": "6b541537-1981-4e8c-ad10-c108be4383c4",
      "metadata": {
        "id": "6b541537-1981-4e8c-ad10-c108be4383c4"
      },
      "source": [
        "If we linearize about a randomly picked point on the phase plane, we'll get an additional non-zero term $\\mathbf{b}$.\n",
        "\n",
        "But if $x_0$ is a fixed point, then:\n",
        "\n",
        "$$\\mathbf{\\dot x} = \\mathbf{\\dot{(x - x_0)}} = \n",
        "\\begin{bmatrix}\n",
        "    \\frac{\\partial F_V}{\\partial V} & \\frac{\\partial F_V}{\\partial w}\\\\\n",
        "    \\frac{\\partial F_w}{\\partial V} & \\frac{\\partial F_w}{\\partial w}\n",
        "\\end{bmatrix}_{\\mathbf{x}_0}  (\\mathbf{x} -\\mathbf{x_0})$$\n",
        "\n",
        "because for $\\mathbf{x} =\\mathbf{x_0}$ the derivative must be zero. This can be rewritten simply as:\n",
        "$$\\mathbf{\\dot{\\hat x}}= \\mathrm{J} \\mathbf{\\hat x}$$"
      ]
    },
    {
      "cell_type": "markdown",
      "id": "c9f1a5c2-7b1f-48f6-9020-6913a4ac9ea5",
      "metadata": {
        "id": "c9f1a5c2-7b1f-48f6-9020-6913a4ac9ea5"
      },
      "source": [
        "This matrix $\\mathrm{J}$ is called a **Jacobian** (scary name!). But it only has 4 components, which we can derive analytically (with pen and paper) from eq. 5a-5b:"
      ]
    },
    {
      "cell_type": "code",
      "execution_count": null,
      "id": "a8f96b9e-135a-4e38-9861-cd333722c238",
      "metadata": {
        "id": "a8f96b9e-135a-4e38-9861-cd333722c238"
      },
      "outputs": [],
      "source": [
        "def find_nullcline_intersection(V_thr,i_ext,beta):\n",
        "    diff = lambda x: np.abs(V_nullcline(x,V_thr,i_ext) - w_nullcline(x,beta))\n",
        "    return minimize(diff,0.4).x[0]\n",
        "\n",
        "\n",
        "eps = 0.01\n",
        "V = find_nullcline_intersection(V_thr,i_ext,beta)\n",
        "print(f'Nullclines intersect at V={V:.3f}')\n",
        "J = ... # TODO: find derivatives with a pen and paper and fill in the Jacobian here\n",
        "\n",
        "print(\"Eigenvalues of a Jacobian: \",np.linalg.eig(J)[0])"
      ]
    },
    {
      "cell_type": "markdown",
      "id": "5553daa6-ec72-4e59-8749-f40f4664a2d1",
      "metadata": {
        "id": "5553daa6-ec72-4e59-8749-f40f4664a2d1"
      },
      "source": [
        "#### **Think!**\n",
        "So, is it stable?"
      ]
    },
    {
      "cell_type": "markdown",
      "id": "aa45ae89-8412-4f98-96ef-52c025f7d964",
      "metadata": {
        "id": "aa45ae89-8412-4f98-96ef-52c025f7d964"
      },
      "source": [
        "**Answer:** No. The eigenvalues are positive, so the solution is repulsed from the fixed point."
      ]
    },
    {
      "cell_type": "markdown",
      "id": "283a4cf6-2530-4444-9192-917e96c3fbef",
      "metadata": {
        "id": "283a4cf6-2530-4444-9192-917e96c3fbef"
      },
      "source": [
        "#### Global stability"
      ]
    },
    {
      "cell_type": "markdown",
      "id": "486a37a8-9c02-46a7-b83e-c93880f518f5",
      "metadata": {
        "id": "486a37a8-9c02-46a7-b83e-c93880f518f5"
      },
      "source": [
        "Now let us take a step back. Literally. Let us zoom out on that phase portrait:"
      ]
    },
    {
      "cell_type": "code",
      "execution_count": null,
      "id": "f1a67b36-516a-4e5f-b562-fcf7dced2b0d",
      "metadata": {
        "id": "f1a67b36-516a-4e5f-b562-fcf7dced2b0d"
      },
      "outputs": [],
      "source": [
        "i_ext, V_thr, beta = 0.1, 0.2, 0.4\n",
        "plot_FHN_phase_portrait(i_ext,V_thr,beta, eps=.1,\n",
        "                        V_min=-5, V_max=5, w_min=-50, w_max=50,\n",
        "                        V_null = V_nullcline, w_null = w_nullcline)"
      ]
    },
    {
      "cell_type": "markdown",
      "id": "58fc0aac-c0be-4068-9de9-d610aec8eb41",
      "metadata": {
        "id": "58fc0aac-c0be-4068-9de9-d610aec8eb41"
      },
      "source": [
        "##### **Think!**\n",
        "We see that all of the arrows are point towards the cubic V-nullcline. But why are they horizontal? *(click for answer)*\n"
      ]
    },
    {
      "cell_type": "markdown",
      "id": "531a46e7-a3a9-42da-81e8-44d58ce69968",
      "metadata": {
        "id": "531a46e7-a3a9-42da-81e8-44d58ce69968"
      },
      "source": [
        "**Answer:** Because of timescale separation, eps << 1. The rate of change of the state is much higher in horizontal direction than in vertical."
      ]
    },
    {
      "cell_type": "markdown",
      "id": "9e43585f-419d-41fb-b0ed-ad66d3705f76",
      "metadata": {
        "id": "9e43585f-419d-41fb-b0ed-ad66d3705f76"
      },
      "source": [
        "After they reach the cubic V-nulcline, V does not change anymore, but $ dw/dt \\sim -w$ for large $w$. So, overall, the system is attracter towards (0,0) on a global scale.\n",
        "\n",
        "#### **Summarize and Think!**\n",
        "\n",
        "What should happen on intermediate timescale if:\n",
        "1. **locally**: two nullclines have only one intersection which is a *repeller*\n",
        "2. **globally** the states are *attracted* towards (0,0)\n",
        "\n",
        "?\n"
      ]
    },
    {
      "cell_type": "markdown",
      "id": "ee8f7791-2488-4124-b616-1d75135be05f",
      "metadata": {
        "id": "ee8f7791-2488-4124-b616-1d75135be05f"
      },
      "source": [
        "**Answer:** Since there are no other stable fixed points, the state can not stop changing. It is repelled both from the unstable fixed point and from the infinity... so it must then orbit around the unstable point! 🪐"
      ]
    },
    {
      "cell_type": "markdown",
      "id": "f5ea3f6e-50ab-438e-8e03-2fad72c36532",
      "metadata": {
        "id": "f5ea3f6e-50ab-438e-8e03-2fad72c36532"
      },
      "source": [
        "### Visualizing trajectories"
      ]
    },
    {
      "cell_type": "markdown",
      "id": "5f6e3877-7f3f-47ec-80fb-11f81b11dd68",
      "metadata": {
        "id": "5f6e3877-7f3f-47ec-80fb-11f81b11dd68"
      },
      "source": [
        "With all the knowledge you possess now, you can figure out all possible behaviors of this system with only pen and paper. But it is a lot of work! Instead, we can take a fun route and visulize some trajectories starting from random initial conditions:"
      ]
    },
    {
      "cell_type": "code",
      "execution_count": null,
      "id": "d8c827c7-63c9-44bb-b91e-f2eb5369327a",
      "metadata": {
        "id": "d8c827c7-63c9-44bb-b91e-f2eb5369327a"
      },
      "outputs": [],
      "source": [
        "def plot_FHN_trajectories(i_ext,V_thr,beta,\n",
        "                          N=10, T=20000, dt=.1,eps=0.01,n=30):\n",
        "    '''\n",
        "    Plots a trajectories for a FitzHugh-Nagumo model (eq. 5)\n",
        "    '''\n",
        "    fig, ax = plt.subplots(1,2,figsize=(15,5),gridspec_kw={'width_ratios': [1,2]})\n",
        "\n",
        "    # plot trajectories\n",
        "    V_dot = lambda V, w: ... # TODO: make a lambda-function out of equation 5a  \n",
        "    w_dot = lambda V, w: ... # 5b\n",
        "    # generate some initial conditions\n",
        "    V_0 = np.random.randn(N) * .5 + 0.5\n",
        "    w_0 = np.random.randn(N) * .02 + .05\n",
        "    # create an empty array for storing solutions \n",
        "    traject = np.empty((2,T+1,N))\n",
        "    traject[:,0] = np.array([V_0, w_0])\n",
        "    for t in range(T):\n",
        "        traject[:,t+1] = np.clip(\n",
        "                          [traject[0,t] + V_dot(*traject[:,t])*dt,\n",
        "                          traject[1,t] + w_dot(*traject[:,t])*dt],-10,10)\n",
        "    for i in range(N):\n",
        "        ax[0].plot(*traject[...,i],alpha=.3,linewidth=5)\n",
        "        ax[1].plot(traject[0,:,i])\n",
        "\n",
        "    # plot nullclines\n",
        "    global V_nullcline, w_nullcline\n",
        "    V_grid = np.linspace(-.5, 1.2, n) # a 1D activator grid\n",
        "    ax[0].plot(V_grid,V_nullcline(V_grid,V_thr,i_ext),c='k')\n",
        "    ax[0].plot(V_grid,w_nullcline(V_grid,beta),c='k')\n",
        "\n",
        "    ax[0].set_xlabel('fast activator V')\n",
        "    ax[0].set_ylabel('slow inhibitor w')\n",
        "    ax[1].set_ylabel('fast activator V')\n",
        "    ax[1].set_xlabel('time')\n",
        "    ax[0].set_xlim([-.5,1.2])\n",
        "    ax[1].set_ylim([-.5,1.2])\n",
        "    ax[0].set_ylim([-.1,.2])\n",
        "\n",
        "@widgets.interact\n",
        "def interactive_FHN_trajectories(i_ext=widgets.FloatSlider(min=-.2, max=.3, value=0,step=.01), \n",
        "                            V_thr=widgets.FloatSlider(min=0, max=1, value=0.2),\n",
        "                            beta=widgets.FloatSlider(min=0.05, max=.5, value=.25, step=.01),):\n",
        "    plot_FHN_trajectories(i_ext,V_thr,beta)"
      ]
    },
    {
      "cell_type": "markdown",
      "id": "4ac766a0-864e-455f-ad0b-3eb80f7bbc32",
      "metadata": {
        "id": "4ac766a0-864e-455f-ad0b-3eb80f7bbc32"
      },
      "source": [
        "Yay, we've got action potentials!\n",
        "\n",
        "Not particularly beautiful action potentials (well, it is an approximated, reduced model), but still action potentials!\n",
        "\n",
        "If you don't see anything like action potentials, try stimulating the FHN neuron just a little bit with the external current $i_{ext}$. It makes sense, right? The neuron responds to some inputs.\n",
        "\n"
      ]
    },
    {
      "cell_type": "markdown",
      "id": "fae66d8a-17fc-44e5-ba56-77cf216cffea",
      "metadata": {
        "id": "fae66d8a-17fc-44e5-ba56-77cf216cffea"
      },
      "source": [
        "### **Think: linear vs nonlinear oscillations**\n",
        "\n",
        "Now that you've seen a linear oscillator and a non-linear oscillator (limit cycle), what is the key qualitative difference between them? How would the amplitude of oscillations change if you change initial conditions?"
      ]
    },
    {
      "cell_type": "markdown",
      "id": "0f1966b0-894c-411e-bc53-1f0a6d3f3426",
      "metadata": {
        "id": "0f1966b0-894c-411e-bc53-1f0a6d3f3426"
      },
      "source": [
        "**Solution:** Non-linear oscillator has a roughly fixed amplitude regardless of the initial conditions, while the amplitude of linear oscillator linearly depends on initial conditions (in other words, the further you swing the pendulum, the larger the amplitude will be).\n",
        "\n",
        "In biology, many things have fixed amplitudes. For instance, action potential stays within a certain limit of voltages (e.g. -80 to +20 mV). A limit cycle model explains this behavior. In neuroscience, limit cycles can be found in central pattern generator (CPT) literature."
      ]
    },
    {
      "cell_type": "markdown",
      "id": "fbc32eca-87cd-4b12-8120-15d2fb41546e",
      "metadata": {
        "id": "fbc32eca-87cd-4b12-8120-15d2fb41546e",
        "tags": []
      },
      "source": [
        "## Summary\n",
        "\n",
        "In this bonus part of the tutorial, we:\n",
        "1. Learned that nonlinear systems can have not just *one* but *many* fixed points\n",
        "2. Learned how to linearize the dynamical system about a fixed point and check its local stability\n",
        "3. Learned a new type of an attractor: a limit cycle!\n",
        "4. Simulated some action potentials!"
      ]
    }
  ],
  "metadata": {
    "kernelspec": {
      "display_name": "DS_SA",
      "language": "python",
      "name": "ds_sa"
    },
    "language_info": {
      "codemirror_mode": {
        "name": "ipython",
        "version": 3
      },
      "file_extension": ".py",
      "mimetype": "text/x-python",
      "name": "python",
      "nbconvert_exporter": "python",
      "pygments_lexer": "ipython3",
      "version": "3.8.13"
    },
    "colab": {
      "provenance": [],
      "toc_visible": true,
      "include_colab_link": true
    }
  },
  "nbformat": 4,
  "nbformat_minor": 5
}