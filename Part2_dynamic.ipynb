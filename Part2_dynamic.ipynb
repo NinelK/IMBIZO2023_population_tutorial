{
  "cells": [
    {
      "cell_type": "markdown",
      "metadata": {
        "id": "view-in-github",
        "colab_type": "text"
      },
      "source": [
        "<a href=\"https://colab.research.google.com/github/NinelK/IMBIZO2023_population_tutorial/blob/main/Part2_dynamic.ipynb\" target=\"_parent\"><img src=\"https://colab.research.google.com/assets/colab-badge.svg\" alt=\"Open In Colab\"/></a>"
      ]
    },
    {
      "cell_type": "markdown",
      "metadata": {
        "id": "9S_38ayWhm5W"
      },
      "source": [
        "# **Tutorial:** Dimensionality reduction & neural population models: dynamic"
      ]
    },
    {
      "cell_type": "markdown",
      "metadata": {
        "id": "5lSgytL2f3OV",
        "jp-MarkdownHeadingCollapsed": true,
        "tags": []
      },
      "source": [
        "## Introduction\n",
        "\n",
        "<p align='center'><img src='https://raw.githubusercontent.com/NinelK/IMBIZO2023_population_tutorial/main/figures/Population_dynamics.jpeg?raw=True'/></p>\n",
        "\n",
        "Observed dynamics  | Latent dynamics\n",
        "-------------------|-------------------\n",
        "$$\\frac{d\\mathbf{x}(t)}{dt} = F_c(\\mathbf{x}(t),\\mathbf{u}(t))$$             |          $$\\frac{d\\mathbf{z}(t)}{dt} = F_c(\\mathbf{z}(t),\\mathbf{u}(t))$$           $$\\mathbf{x} = C \\mathbf{z} + \\mathbf\\varepsilon$$\n",
        "\n",
        "*Notation:* The variables in **bold** here correspond to vectors, e.g. a population activity vector $\\mathbf{x} = (x_1,x_2,\\ldots,x_n)^T$.\n",
        "External inputs $\\mathbf{u}$ in this case would correspond to the inputs from other unobserved neurons (e.g. another brain area).\n",
        "\n",
        "The key part of the dynamical systems framework is the **evolution function** $F$. Whether continuous $F_c$ or discrete $F_d$, it can tell us a lot about the system:\n",
        "> The power of the dynamical systems approach to neuroscience, as well as to many other sciences, is that we can tell something, or many things, about a system without knowing all the details that govern the system evolution. We do not even use equations to do that! Some may even wonder why we call it a mathematical theory.        *Eugene Izhikevich [1]*\n",
        "\n",
        "Therefore, the main goal of the tutorial is to learn how to tell something about the dynamical system knowing $F$.\n",
        "\n"
      ]
    },
    {
      "cell_type": "markdown",
      "metadata": {
        "id": "5e6LtQ4p-B8U",
        "tags": []
      },
      "source": [
        "## Setups"
      ]
    },
    {
      "cell_type": "code",
      "execution_count": null,
      "metadata": {
        "id": "qH1B5GBH9969",
        "cellView": "form"
      },
      "outputs": [],
      "source": [
        "# @title Imports and setup\n",
        "rom functools import partial\n",
        "import matplotlib.pyplot as plt\n",
        "import numpy as np\n",
        "import ipywidgets as widgets       # interactive display\n",
        "from matplotlib import rcParams\n",
        "from scipy.linalg import expm\n",
        "from scipy.optimize import minimize\n",
        "rcParams.update({'font.size': 18})"
      ]
    },
    {
      "cell_type": "markdown",
      "metadata": {
        "id": "N_XDFK9Xe9Sj"
      },
      "source": [
        "# Autonomous linear dynamical systems (LDS)"
      ]
    },
    {
      "cell_type": "markdown",
      "metadata": {
        "id": "1-CiIYrZ9wCc"
      },
      "source": [
        "Sometimes, we can assume that the system does not receive any external inputs and evolves in time on its own ( $u(t)=0$ ). Such dynamical systems are called **autonomous**. Autonomous systems are common in physics, but also surprisingly applicable to some biological neural networks, as we will see in the last part of the tutorial. Lack of external inputs greatly simplifies the analysis of the dynamics $F$, so let us assume **no** external inputs for now.\n",
        "\n",
        "As a warmup, let us start with a 1D autonomous continuous-time dynamical system:\n",
        "\n",
        "$\\frac{dx}{dt} = \\dot x = a x; \\qquad x(0) = x_0 \\tag{1} $\n",
        "\n",
        "We are looking at a so-called *initial value problem* here: we know the state of the system $x_0$ at $t=0$, but we want to make a forecast into the future and find $x(t)$ for $t>0$."
      ]
    },
    {
      "cell_type": "markdown",
      "metadata": {
        "id": "5ONwZE8bH5jr"
      },
      "source": [
        "## Solving a 1D linear dynamics equation\n",
        "Let us solve equation (1) both numerically and analytically.\n",
        "\n",
        "For analytical solution, let us reorder the variables and integrate both sides of the equation just on paper:\n",
        "\n",
        "$$\\int_{x_0}^{x_t} \\frac{dx}{x} = \\int_{0}^t a dt \\tag{2a}$$\n",
        "\n",
        "For numerical integration, we will use the *forward Euler* scheme:\n",
        "\n",
        "$$\\frac{dx}{dt} \\approx \\frac{\\Delta x}{\\Delta t} = \\frac{x_{n+1} - x_n}{\\Delta t} \\tag{2b}$$\n",
        "\n",
        "We can then write down an analytical solution at any time point $t$ based on (2a), and also get a numerical approximation of the same integral by applying the update rule $x_{n+1} \\rightarrow x_n$ based on (2b) in a for-loop:"
      ]
    },
    {
      "cell_type": "markdown",
      "metadata": {
        "id": "uOakw9zb3Rbd"
      },
      "source": [
        "### **Exercise 1:** Analytical vs numerical solutions\n",
        "Complete the missing lines in the code below. Does analytical solution match the numerical solution? "
      ]
    },
    {
      "cell_type": "code",
      "execution_count": null,
      "metadata": {
        "id": "dwtnAtUPNkyv"
      },
      "outputs": [],
      "source": [
        "def analytical_1D_solution(x0,a,t):\n",
        "    ''' Finds a solution of x' = ax, for x(t), given x(0) = x0 '''\n",
        "    xt = ... # TODO: solve the equation (2a) with pen and paper and type the result here\n",
        "    return xt\n",
        "\n",
        "def numerical_1D_solution(x0,a,t,dt=0.001):\n",
        "    ''' Integrates x' = ax using a forward Euler scheme, given x(0) = x0;\n",
        "    Returns x(t) '''\n",
        "    N = int(t//dt) # number of integration steps \n",
        "    xn = x0 # current value of x_n\n",
        "    for n in range(N):\n",
        "        x_n_plus_1 = ... #TODO: write a discretized update rule following (1-2b)\n",
        "        xn = x_n_plus_1  \n",
        "    return xn\n",
        "\n",
        "T = 1 # total duration\n",
        "n_plot = 10 # how many points to plot\n",
        "\n",
        "@widgets.interact\n",
        "def plot_1D_solutions(x0 = 1., \n",
        "                      a = widgets.FloatSlider(min=-2., max=2., step=1, value=1),\n",
        "                      dt = widgets.FloatLogSlider(min=-3, max=-1, value=.01)):\n",
        "    a = a if type(a)==float else a.value\n",
        "    dt = dt if type(dt)==float else dt.value\n",
        "    plt.figure()\n",
        "    time = np.linspace(0,T,n_plot)\n",
        "    plt.plot(time, [analytical_1D_solution(x0,a,t) for t in time],label='Analytical solution')\n",
        "    plt.plot(time, [numerical_1D_solution(x0,a,t,dt) for t in time],label='Numerical solution')\n",
        "    plt.xlim([0,T])\n",
        "    plt.ylim([-5,5])\n",
        "    plt.axhline(0,c='k',linestyle=':')\n",
        "    plt.xlabel('time')\n",
        "    plt.ylabel('state x')\n",
        "    plt.legend()\n"
      ]
    },
    {
      "cell_type": "markdown",
      "metadata": {
        "id": "CcskjbCC2Re3"
      },
      "source": [
        "#### **Think!**\n",
        "When do the solutions agree? Disagree? Why?\n"
      ]
    },
    {
      "cell_type": "markdown",
      "metadata": {
        "id": "LL7--Zxr1ad3"
      },
      "source": [
        "#### **Think!**\n",
        "\n",
        "How many qualitatively different solutions have you found? What are they?\n"
      ]
    },
    {
      "cell_type": "markdown",
      "metadata": {
        "id": "240PYpGQF9XH"
      },
      "source": [
        "### **Take home message**\n",
        "\n",
        "$a$ determines how the amplitude of the solution changes (decays, amplifies or stays constant)\n",
        "<!-- In a 1D linear autonomous dynamical system with a single parameter $a$:\n",
        "1. Real part of $a$ determines how the amplitude of the solution changes (decays, amplifies or stays constant)\n",
        "2. Imaginary part of $a$ determines the frequency of oscillations -->"
      ]
    },
    {
      "cell_type": "markdown",
      "metadata": {
        "id": "sHgJvwFQKZzb"
      },
      "source": [
        "# Oscillations need 2D\n",
        "\n",
        "In Exercise 1 we have observed a 1D system can exponentially grow, decay, or stay the same. But we know that many systems in neuroscience do neither. They often **oscillate**! But for this behavior we need at least 2 dimensions!\n",
        "\n",
        "$$\\begin{bmatrix}\n",
        "\\frac{d x_1}{dt} \\\\\n",
        "\\frac{d x_2}{dt}\n",
        "\\end{bmatrix} = A \\begin{bmatrix}\n",
        "\\ x_1 \\\\\n",
        "\\ x_2\n",
        "\\end{bmatrix}  \n",
        "\\tag{3}$$\n"
      ]
    },
    {
      "cell_type": "markdown",
      "metadata": {
        "id": "42ptqWjfHdKH",
        "tags": []
      },
      "source": [
        "## Bonus story: Why 2D? \n",
        "A tale of a mathematical pendulum and auxilary variables\n",
        "<img src='https://upload.wikimedia.org/wikipedia/commons/thumb/8/83/Mathematical_pendulum.svg/950px-Mathematical_pendulum.svg.png' width=200px align='right'>\n"
      ]
    },
    {
      "cell_type": "markdown",
      "metadata": {
        "id": "UjnkHJBEKZzb"
      },
      "source": [
        "\n",
        "To get started with oscillations, let us consider another simple system that oscillates: a pendulum!\n",
        "\n",
        "The dynamics of the pendulum can be derived from first principles (Newton's laws of mechanics):\n",
        "\n",
        "$$\\ddot \\theta = - g \\sin(\\theta) \\approx -g \\theta$$\n",
        "\n",
        "which turns into a linear system if the oscillations are small ($\\theta \\ll 1$). We can further simplify the system by assuming $g=1$.\n",
        "\n",
        "This equation, however, contains a higher order derivative ($\\ddot \\theta$). How can we get rid of it?\n",
        "\n",
        "We can introduce an additional auxilary variable $\\omega = \\dot \\theta$, then:\n",
        "$$\\ddot \\theta = \\dot \\omega = -\\theta$$\n",
        "\n",
        "Now we have two equations that resemble (1), which we can combine into a single vector-valued equation for a state $\\mathbf{x} = [~\\theta,~\\omega~]^T$:\n",
        "\n",
        "$${\\begin{bmatrix}\n",
        "    \\dot \\theta \\\\\n",
        "    \\dot \\omega\n",
        "\\end{bmatrix}} = \\begin{bmatrix}\n",
        "    0 & 1 \\\\\n",
        "    -1 & 0\n",
        "\\end{bmatrix} \\begin{bmatrix}\n",
        "    \\theta \\\\\n",
        "    \\omega\n",
        "\\end{bmatrix} $$\n",
        "\n",
        "or simply:\n",
        "\n",
        "$$\\mathbf{\\dot x} = A \\mathbf{x}$$\n",
        "\n",
        "Looks similar to the 1D system in (1). Then how does it cause oscillations? 🤔 Let's find out.\n"
      ]
    },
    {
      "cell_type": "markdown",
      "metadata": {
        "id": "CRYnEyir1B9p",
        "tags": []
      },
      "source": [
        "## **Exercise 2:** Solving a 2D linear dynamics equation"
      ]
    },
    {
      "cell_type": "markdown",
      "metadata": {
        "id": "PYEkx4i3a4WV",
        "tags": []
      },
      "source": [
        "Fill in the missing line of code below to numerically integrate the eq. (3).\n",
        "\n",
        "*Hint: for matrix multiplication in python you can use @ sign*\n",
        "\n",
        "*Note:* the analytical solution of eq. (3) is given to you in the code. It involves matrix exponential. If you don't know what it is -- no worries, it is not important for this tutorial."
      ]
    },
    {
      "cell_type": "code",
      "execution_count": null,
      "metadata": {
        "id": "iKjR6PFOTIU_"
      },
      "outputs": [],
      "source": [
        "def analytical_2D_solution(x0,A,t):\n",
        "    ''' Finds a solution of x' = Ax, for x(t), given x(0) = x0 '''\n",
        "    xt = expm(A*t) @ x0 # this solution includes matrix exponential (https://en.wikipedia.org/wiki/Matrix_exponential)\n",
        "    return xt\n",
        "\n",
        "def numerical_2D_solution(x0,a,t,dt=0.01):\n",
        "    ''' Integrates x' = Ax using a forward Euler scheme, given x(0) = x0;\n",
        "    Returns x(t) '''\n",
        "    N = int(t//dt) # number of integration steps \n",
        "    xn = x0 # initial value of x_n\n",
        "    for n in range(N):\n",
        "        x_n_plus_1 = ... # TODO: write a discretized update rule following (1-2)\n",
        "        xn = x_n_plus_1  \n",
        "    return xn\n",
        "\n",
        "T = 10 # total duration\n",
        "n_plot = 100 # how many points to plot\n",
        "\n",
        "A = np.array([[0, 1], [-1, 0]])\n",
        "\n",
        "@widgets.interact\n",
        "def plot_2D_solutions(phi0 = (-1,1,0.1),\n",
        "                      omega0 = (-1,1,0.1)):\n",
        "    x0 = np.array([phi0, omega0])\n",
        "    fig, axes = plt.subplots(1,3,figsize=(12,2),gridspec_kw={'width_ratios': [2, 1, 2]})\n",
        "    time = np.linspace(0,T,n_plot)\n",
        "    analytical_traj = np.array([analytical_2D_solution(x0,A,t) for t in time])\n",
        "    numerical_traj = np.array([numerical_2D_solution(x0,A,t) for t in time])\n",
        "\n",
        "    axes[1].plot(*numerical_traj.T,c='k')\n",
        "    axes[1].plot(*analytical_traj.T,c='C1',linestyle=':')\n",
        "    axes[1].set_xlabel(r\"$\\theta$\")\n",
        "    axes[1].set_ylabel(r\"$\\omega = \\dot\\theta$\")\n",
        "    axes[1].set_xlim([-1.2,1.2])\n",
        "    for ax in axes:\n",
        "        ax.set_ylim([-1.2,1.2])\n",
        "\n",
        "    axes[0].plot(numerical_traj[:,0],c='k')\n",
        "    axes[0].plot(analytical_traj[:,0],c='C1',linestyle=':')\n",
        "    axes[0].set_xlabel(r\"time\")\n",
        "    axes[0].set_ylabel(r\"$\\theta$\")\n",
        "\n",
        "    axes[2].plot(numerical_traj[:,1],c='k',label='Numerical solution')\n",
        "    axes[2].plot(analytical_traj[:,1],c='C1',linestyle=':',label='Analytical solution')\n",
        "    axes[2].set_xlabel(r\"time\")\n",
        "    axes[2].set_ylabel(r\"$\\omega = \\dot\\theta$\")\n",
        "    axes[2].legend(loc=(1.2,0))\n",
        "\n",
        "    plt.subplots_adjust(left=None, bottom=.2, right=None, top=None, wspace=0.4, hspace=0.)"
      ]
    },
    {
      "cell_type": "markdown",
      "metadata": {
        "id": "cHFFvDETs291",
        "tags": []
      },
      "source": [
        "The plot in the middle is called a *phase portrait* in mechanics: you can see why if you change the angular velocity $\\omega$ and see how left/right plots change. This portrait exists in a *phase space* $[\\theta, \\omega]$.\n",
        "\n",
        "In physics, we can derive the dynamics equations from first principles, so we know that these two variables: position $\\theta$ and angular velocity $\\omega$, fully describe the **state** of the pendulum. Knowing the state, we know what happens next, because the system is **deterministic** (no noise in eq. (1) or (3)).\n",
        "Therefore, in a more general context, a minimal set of variables that describe the state of the system form a **state space**. \n",
        "\n",
        "<!-- However, in a more general context, the components of $x$ that describe the dynamics of the system can be anything! For instance, $x_1, x_2, \\ldots, x_n$ can correspond to activities of neurons in a neural network.    -->\n"
      ]
    },
    {
      "cell_type": "markdown",
      "metadata": {
        "id": "mv0UtLxzS8Uk"
      },
      "source": [
        "## Visualizing 2D dynamics: phase portraits"
      ]
    },
    {
      "cell_type": "markdown",
      "metadata": {
        "id": "eILlepzLTDd2"
      },
      "source": [
        "We have learned that if we know the state of the the system at any time point $t_0$, we can predict what happes next. We already integrated the dynamics eq. (3) given certain initial conditions and visualized some trajectories for a pendulum. But can we summarize and visualize all the possible states and transitions between them?"
      ]
    },
    {
      "cell_type": "markdown",
      "metadata": {
        "id": "JFBJonTdKZzc"
      },
      "source": [
        "### **Exercise 3.** Stream plot\n",
        "\n",
        "We can visualize the equation (3) using stream plots. For every state, equation (3) defines the derivative (i.e. where the system goes next), which we can visualize with arrows:\n"
      ]
    },
    {
      "cell_type": "code",
      "execution_count": null,
      "metadata": {
        "id": "yfeWdEMsVcks"
      },
      "outputs": [],
      "source": [
        "# Plotting phase portraits\n",
        "def plot_phase_portrait(A,n = 10, xlabel=r'$x_1$', ylabel=r'$x_2$', Alabel='A'):\n",
        "    '''\n",
        "    A: matrix 2x2\n",
        "    n: number of points in the n x n grid\n",
        "    '''\n",
        "    plt.figure(figsize=(3,3))\n",
        "    x1 = np.linspace(-1, 1, n) # a 1D grid\n",
        "    x = np.array(np.meshgrid(x1, x1)).reshape((2,-1)) # a 2D flattened grid\n",
        "    # calculate the time-derivative of the state x in the line below (eq. 3)\n",
        "    # the output shape should be [2 x n^2]\n",
        "    x_dot = ... \n",
        "    x_dot = x_dot.reshape((2,n,n))\n",
        "    plt.streamplot(x1,x1,*x_dot,color=np.linalg.norm(x_dot,axis=0),cmap='coolwarm',density=0.5)\n",
        "    plt.xlabel(xlabel)\n",
        "    plt.ylabel(ylabel);\n",
        "    plt.text(1.2,0,f'{Alabel} = ')\n",
        "    plt.text(1.7,-.15,f'{A[0,0]:.1f}, {A[0,1]:.1f} \\n{A[1,0]:.1f}, {A[1,1]:.1f}')\n",
        "    plt.xlim([-1,1])\n",
        "    plt.ylim([-1,1])\n",
        "    plt.clim(vmin=0,vmax=1)\n",
        "\n",
        "A = np.array([[0, 1], [-1, 0]]) # pendulum dynamics\n",
        "plot_phase_portrait(A, xlabel=r'$\\theta$', ylabel=r'$\\omega = \\dot\\theta$')"
      ]
    },
    {
      "cell_type": "markdown",
      "metadata": {
        "id": "b7dTSLXUYUDc"
      },
      "source": [
        "Following these streamlines in a figure above from some initial point $x_0$ step-by-step corresponds to integrating $\\int_{t_0}^{t} \\dot x(t) dt$ that we did in the previous exercise!\n",
        "\n",
        "Color here shows how fast the state evolves: cooler colors mean slower, warmer colors -- faster!\n",
        "(darkest blue: $|\\mathbf{\\dot x}| = 0$, brightest red: $|\\mathbf{\\dot x}| = 1$)\n",
        "\n",
        "Like in Izhekevich quote, we don't even need to write equation to tell how the system behaves 🤯"
      ]
    },
    {
      "cell_type": "markdown",
      "metadata": {
        "id": "x6iOBU-6f_dz"
      },
      "source": [
        "## Analysing multi-dimensional linear dynamical systems"
      ]
    },
    {
      "cell_type": "markdown",
      "metadata": {
        "id": "dwgf8dhygGZS"
      },
      "source": [
        "### Change of basis\n",
        "The pendulum example above is, perhaps, the simplest linear dynamical system in physics. Its phase portrait is symmetrical!\n",
        "\n",
        "But for other dynamical systems, with other matrices $A$, this might not be the case:"
      ]
    },
    {
      "cell_type": "code",
      "execution_count": null,
      "metadata": {
        "id": "if2U5CDUaj9x"
      },
      "outputs": [],
      "source": [
        "np.random.seed(2)\n",
        "A = np.random.randn(2,2) # pick some values from N(0,1) for each component\n",
        "\n",
        "plot_phase_portrait(A)\n"
      ]
    },
    {
      "cell_type": "markdown",
      "metadata": {
        "id": "vDZ9Dj6LQ6fK"
      },
      "source": [
        "Looks very complicated! All elements in $A$ are non-zero, so each derivative $\\dot x_i$ depends on both $x_1$ and $x_1$. Can we make it better? Can we somehow split a 2D system into a combination of two 1D systems?\n",
        "\n",
        "We are now considering an abstract linear dynamical system, so the components $x_1$ and $x_2$ do not mean much... Can we stretch and rotate this space such that in these new coordinates $(\\hat x_1, \\hat x_2)$  the derivatives $d{\\hat x_i}/dt$ only depend on the respective component $x_i$ ? Or, in other words, can we change the basis to make the matrix $A$ diagonal?\n",
        "\n",
        "$$\\begin{bmatrix}\n",
        "\\frac{d\\hat x_1}{dt} \\\\\n",
        "\\frac{d\\hat x_2}{dt}\n",
        "\\end{bmatrix} = \\begin{bmatrix}\n",
        "a_1 & 0 \\\\\n",
        "0 & a_2\n",
        "\\end{bmatrix} \\begin{bmatrix}\n",
        "\\hat x_1 \\\\\n",
        "\\hat x_2\n",
        "\\end{bmatrix} = \\begin{bmatrix}\n",
        "a_1 \\hat x_1 \\\\\n",
        "a_2 \\hat x_2\n",
        "\\end{bmatrix}\n",
        "$$"
      ]
    },
    {
      "cell_type": "code",
      "execution_count": null,
      "metadata": {
        "id": "JM-JOpEvQ5OI"
      },
      "outputs": [],
      "source": [
        "S = np.eye(2)\n",
        "@widgets.interact\n",
        "def rotate_and_scale(stretch=widgets.FloatLogSlider(min=-1, max=+1, value=1.,description='stretch ↕'),\n",
        "                     rotate=widgets.FloatSlider(min=-90, max=+90, step=5 ,description='rotate ⤾')):\n",
        "    global S\n",
        "    a = rotate * np.pi / 180\n",
        "    S =  np.array([[np.cos(a),np.sin(a)],[-np.sin(a),np.cos(a)]]) @ np.array([[stretch,0],[0,1]])\n",
        "    plot_phase_portrait(S @ A @ np.linalg.inv(S),\n",
        "                      xlabel=r'$\\hat{x_1}$', ylabel=r'$\\hat{x_2}$', Alabel=r'$\\hat{A}$')\n"
      ]
    },
    {
      "cell_type": "markdown",
      "metadata": {
        "id": "VzGbCtBQR9PC"
      },
      "source": [
        "What we are doing above corresponds to this transformation:\n",
        "$$S \\mathbf{\\dot x} = SA\\mathbf{x} = SA\\underbrace{(S^{-1}S)}_{I}\\mathbf{x} = (SAS^{-1})S\\mathbf{x}$$\n",
        "or, in other words, we make the following change of coordinates (i.e. change of the basis):\n",
        "$$\\mathbf{x} \\rightarrow S\\mathbf{x} ~$$\n",
        "$$A \\rightarrow SAS^{-1}$$"
      ]
    },
    {
      "cell_type": "markdown",
      "metadata": {
        "id": "zxcPu65CU_4P"
      },
      "source": [
        "#### Think!\n",
        "Did you manage to align the *special* directions in the phase portrait above with the new axes? How does the new, transformed matrix $\\hat{A} = SAS^{-1}$ look like?"
      ]
    },
    {
      "cell_type": "markdown",
      "metadata": {
        "id": "6E6RWp7dtY6b"
      },
      "source": [
        "#### Real eigenvalues"
      ]
    },
    {
      "cell_type": "markdown",
      "metadata": {
        "id": "2qpJ7QCvVy2S"
      },
      "source": [
        "What we did above by rotating and stretching our phase space is the transformation of matrix $A$ into its *canonical form*. Everything is simpler in this form! The eigenvalues remain the same under stretching and rotation:\n",
        "\n",
        "$$\\hat{A}\\mathbf{\\hat{x}} = SA\\mathbf{x} = S\\lambda x = \\lambda \\mathbf{\\hat{x}}$$\n",
        "\n",
        "Could you tell what are the eigenvalues of $\\hat{A}$ without writing anything down?\n",
        "\n",
        "Now, check your guess by calculating the eigenvalues:\n"
      ]
    },
    {
      "cell_type": "code",
      "execution_count": null,
      "metadata": {
        "id": "8rc4t1cfUCCZ"
      },
      "outputs": [],
      "source": [
        "A_hat = S @ A @ np.linalg.inv(S)\n",
        "print('Eigenvalues of A    :', np.linalg.eig(A)[0])\n",
        "print('Eigenvalues of A_hat:', np.linalg.eig(A_hat)[0])"
      ]
    },
    {
      "cell_type": "markdown",
      "metadata": {
        "id": "5OeSIGu0equz"
      },
      "source": [
        "Now let us experiment with the eigenvalues and understand what they *mean* in the dynamical system:"
      ]
    },
    {
      "cell_type": "code",
      "execution_count": null,
      "metadata": {
        "id": "Z8CeIjn5Z2KN"
      },
      "outputs": [],
      "source": [
        "@widgets.interact\n",
        "def rotate_and_scale(lambda_1=widgets.FloatSlider(min=-1, max=+1, description='λ1'),\n",
        "                     lambda_2=widgets.FloatSlider(min=-1, max=+1, description='λ2')):\n",
        "    lambda_1 = lambda_1 if type(lambda_1)==float else lambda_1.value\n",
        "    lambda_2 = lambda_2 if type(lambda_2)==float else lambda_2.value\n",
        "    if lambda_1==0 and lambda_2==0:\n",
        "        lambda_1 = -1e-10\n",
        "    A_12 = np.array([[lambda_1, 0],\n",
        "                [0, lambda_2]])\n",
        "    plot_phase_portrait(A_12)\n"
      ]
    },
    {
      "cell_type": "markdown",
      "metadata": {
        "id": "jurO9-jFnwus"
      },
      "source": [
        "Indeed, in a canonical form, the 2D system with two real eigenvalues splits into two independent 1D dynamical systems:\n",
        "$\\dot x_i = \\lambda_i x_i, i \\in \\{0,1\\}.$ So, each eigenvalue here changes the dynamics along its eigenvector the same way as the parameter $a$ in Example 1."
      ]
    },
    {
      "cell_type": "markdown",
      "metadata": {
        "id": "EZ8BnuxTpHg0"
      },
      "source": [
        "The eigenvectors are trivial in the canonical form: they are just aligned with axes!\n",
        "\n",
        "So, in order to find eigenvectors of the original evolution matrix $A$, we simply need to reverse the rotation and stretching:"
      ]
    },
    {
      "cell_type": "code",
      "execution_count": null,
      "metadata": {
        "id": "waP_Yj2GpiT-"
      },
      "outputs": [],
      "source": [
        "A_hat = S @ A @ np.linalg.inv(S)\n",
        "print('Trivial eigenvectors of A_hat:', np.round(np.linalg.eig(A_hat)[1].T,1))\n",
        "print('Eigenvectors of A:', np.round(np.linalg.eig(A)[1].T,2))\n",
        "S_inv = np.linalg.inv(S) # invert the transform\n",
        "S_inv_norm = S_inv / np.linalg.norm(S_inv,axis=0)\n",
        "print('Vectors derived from transformation:', np.round(S_inv_norm.T,2))"
      ]
    },
    {
      "cell_type": "markdown",
      "metadata": {
        "id": "7WrGlWwitJr8"
      },
      "source": [
        "The above vectors should be the almost identical (up to a sign)."
      ]
    },
    {
      "cell_type": "markdown",
      "metadata": {
        "id": "CWSBrtaMtXkk"
      },
      "source": [
        "#### Complex eigenvalues"
      ]
    },
    {
      "cell_type": "markdown",
      "metadata": {
        "id": "jUG_eBfrxgzn"
      },
      "source": [
        "From a characteristic polynomial, we know that the eigenvalues can be complex (as $\\lambda = \\lambda_{real} + i \\lambda_{imag}$). We also found that eigenvalues connect high-dimensional systems (e.g. 2D) with some lower-dimensional (e.g. 1D) dynamic modes. Let us go back to a 1D system and try to make a coefficient $a$ complex."
      ]
    },
    {
      "cell_type": "markdown",
      "metadata": {
        "id": "osgyZ9Nj0_LQ"
      },
      "source": [
        "#### What if $a$ is complex-valued?"
      ]
    },
    {
      "cell_type": "markdown",
      "metadata": {
        "id": "Xcd8cBTmCHPB"
      },
      "source": [
        "In the exercise 1 we found that analytical solution is:\n",
        "$$x(t) = x_0 e^{at} $$\n",
        "but what if $a$ is complex?\n",
        "\n",
        "Let us substitute $a$ with $a_{real} + i a_{imag}$, then:\n",
        "$$x(t) = x_0 e^{a_{real}t} e^{i a_{imag} t} $$\n",
        "\n",
        "This new solution is a product of the solution that we have seen previously and a new term $e^{i a_{imag} t}$.\n",
        "\n",
        "Let us generate some trajectories and see what happens:\n"
      ]
    },
    {
      "cell_type": "code",
      "execution_count": null,
      "metadata": {
        "id": "-OCLpgAhA2od"
      },
      "outputs": [],
      "source": [
        "@widgets.interact\n",
        "def plot_1D_solutions(x0 = 1., \n",
        "                      a_real = widgets.FloatSlider(min=-1., max=1., step=.1, value=0),\n",
        "                      a_imag = widgets.FloatSlider(min=-1, max=5, step=.1, value=1)):\n",
        "    a_real = a_real if type(a_real)==float else a_real.value\n",
        "    a_imag = a_imag if type(a_imag)==float else a_imag.value\n",
        "    a = complex(a_real,a_imag)\n",
        "    plt.figure()\n",
        "    time = np.linspace(0,T,n_plot)\n",
        "    plt.plot(time, [analytical_1D_solution(x0,a,t).real for t in time],label='Solution (real part)')\n",
        "    plt.plot(time, [analytical_1D_solution(x0,a,t).imag for t in time],label='Solution (imag part)')\n",
        "    plt.xlim([0,T])\n",
        "    plt.ylim([-5,5])\n",
        "    plt.axhline(0,c='k',linestyle=':')\n",
        "    plt.xlabel('time')\n",
        "    plt.ylabel('state x')\n",
        "    plt.legend(loc='lower left')\n"
      ]
    },
    {
      "cell_type": "markdown",
      "metadata": {
        "id": "3zzMK8fmEjJH"
      },
      "source": [
        " Let us recall that $e^{i a_{imag} t} = \\cos(a_{imag} t) + i\\sin(a_{imag} t)$ (*Euler's formula*).\n",
        "\n",
        " So the whole solution looks like:\n",
        " $$x(t) = \\underbrace{x_0 e^{a_{real} t} \\cos(a_{imag}t)}_\\mathrm{real~part} + \\underbrace{i x_0 e^{a_{real} t} \\sin(a_{imag}t)}_\\mathrm{imaginary~part}$$\n"
      ]
    },
    {
      "cell_type": "markdown",
      "metadata": {
        "id": "rtrUqImVKZze"
      },
      "source": [
        "Let us return to the pendulum. What are the eigenvalues and eigenvectors for that 2D system?"
      ]
    },
    {
      "cell_type": "code",
      "execution_count": null,
      "metadata": {
        "id": "KKXWSV7hj-LJ"
      },
      "outputs": [],
      "source": [
        "A = np.array([[0, 1], [-1, 0]])\n",
        "np.linalg.eig(A)"
      ]
    },
    {
      "cell_type": "markdown",
      "metadata": {
        "id": "rdw28x8xDkfQ"
      },
      "source": [
        "#### Exercise 3: period of oscillations\n",
        "\n",
        "What is the period of oscillations, based on these eigenvalues?"
      ]
    },
    {
      "cell_type": "markdown",
      "metadata": {
        "id": "SGXnn2WUjgag"
      },
      "source": [
        "#### Exercise 4. Zero eigenvalues\n",
        "\n",
        "So far, we only looked at a full rank matrices $A$: such matrices that have all non-zero eigenvectors. What if one of them is actually zero?"
      ]
    },
    {
      "cell_type": "code",
      "execution_count": null,
      "metadata": {
        "id": "kJWsZ2Tc6Z85"
      },
      "outputs": [],
      "source": [
        "@widgets.interact\n",
        "def rotate_and_scale(lambda_1=widgets.FloatSlider(min=-1, max=+1, description='λ1'),\n",
        "                     lambda_2=widgets.FloatSlider(min=-1, max=+1, description='λ2')):\n",
        "    lambda_1 = lambda_1 if type(lambda_1)==float else lambda_1.value\n",
        "    lambda_2 = lambda_2 if type(lambda_2)==float else lambda_2.value\n",
        "    if lambda_1==0 and lambda_2==0:\n",
        "        lambda_1 = -1e-10\n",
        "    A_12 = np.array([[lambda_1, 0],\n",
        "                [0, lambda_2]])\n",
        "    plot_phase_portrait(A_12)"
      ]
    },
    {
      "cell_type": "markdown",
      "metadata": {
        "id": "zvQxaNLLbeXb",
        "jp-MarkdownHeadingCollapsed": true,
        "tags": []
      },
      "source": [
        "### Fixed points and stability\n",
        "\n",
        "**Fixed points** are the points that remain unchanged in time, meaning that the time derivative $\\mathbf{\\dot x}=\\mathbf{0}$ there. There is only one such point in the linear systems which we considered above, which is $\\mathbf{x}=\\mathbf{0}$.\n",
        "\n",
        "Fixed points can be stable and unstable. Stable means that once the state gets near the fixed point it will only get closer to it in the future (*more precisely it is called assymptotic stability*). Unstable means the opposite: the state only gets further away. The system can also be marginally stable, if it is neither stable nor unstable. \n",
        "\n",
        "A set of stable fixed points of a dynamical system is also called an **attractor**, while a set of unstable points -- a **repeller**.\n",
        "\n",
        "### Exercise 5. Condition for stability?\n",
        "*Hint: revise the 1D solutions and think about how the system behaves along the eigenvectors*\n",
        "\n",
        "If 2x2 matrix $A$ has two eigenvalues: $\\lambda_1$ and $\\lambda_2$, what are the conditions for being 1) stable? 2) unstable?"
      ]
    },
    {
      "cell_type": "markdown",
      "metadata": {
        "id": "DO5ql9-vtk0H"
      },
      "source": [
        "### Summary\n",
        "\n",
        "We have explored DS with real-valued, complex and zero eigenvalues. And that is all possible dynamics one can get in 2D with a linear DS!\n",
        "\n",
        "We can summarize all dynamic regimes in a single plot:\n",
        "\n",
        "![Classification of Phase Portraits](https://drive.google.com/uc?export=view&id=1zvbMnqnSFiss3GF_yfUo83NxOD_WXZtK)\n",
        "\n",
        "here $\\Delta = (\\lambda_1 - \\lambda_2)^2$ sets the boundary between real-valued and complex-valued eigenvalues (you can also derive it from a characteristic polynomial)"
      ]
    },
    {
      "cell_type": "markdown",
      "metadata": {
        "id": "svmBduOG_52v"
      },
      "source": [
        "### **Exercise 6** : relationship between continuous time and discrete time linear dynamical systems\n",
        "\n",
        "Dynamical systems are systems that **evolve** in time. \n",
        "When modelling dynamics, we can represent time in two different ways: *discrete* or *continuous*. In both cases, we can write down the evolution of the system as a function of its previous `state' $\\mathbf{x}$ and external inputs that the system receives $\\mathbf{u}$:\n",
        "\n",
        "Discrete time systems               |           Continuous time systems\n",
        "------------------------------------|-------------------------------------\n",
        " $$\\mathbf{x}_{t+1} = F_d(\\mathbf{x}_t,\\mathbf{u}_t)$$           |    $$\\frac{d\\mathbf{x}(t)}{dt} = F_c(\\mathbf{x}(t),\\mathbf{u}(t))$$\n",
        " \n",
        "\n",
        "In the exercise above we were visualizing phase planes for the *continuous-time* dynamical systems. It is convinient, because there exists a derivative $\\mathbf{\\dot x}$, which we were plotting with streamplots.\n",
        "\n",
        "However, when it comes to **numerical** integration, we typically use discrete time steps. We already applied one such discretization ( a forward Euler scheme) in Exercise 1.\n",
        "\n",
        "Discrete time LDS               |           Continuous time LDS\n",
        "------------------------------------|-------------------------------------\n",
        " $$\\mathbf{x}_{t+1} = A_d \\mathbf{x}_t$$           |    $$\\frac{d\\mathbf{x}(t)}{dt} = A_c\\mathbf{x}(t)$$"
      ]
    },
    {
      "cell_type": "markdown",
      "metadata": {
        "id": "BU_kKlfq9VxK"
      },
      "source": [
        "### Exercise 6a: Relationship between evolution matrices\n",
        "\n",
        "In this exercise, let us find the relationship between the continuous-time evolution matrix $A_c$ and the discrete-time matrix $A_d$ using forward Euler discretization. If we discretize the continuous system, then what would be the equivalent of a matrix $A_d$ in a discretized version?"
      ]
    },
    {
      "cell_type": "markdown",
      "metadata": {
        "id": "BIxBY1jR8svT"
      },
      "source": [
        "### Exercise 6b: Relationship between eigenspectra*\n",
        "\\**difficult exercise, you can check the solution if no time*\n",
        "\n",
        "What eigenvalues of matrices $A_c$ and $A_d$ define a marginally stable system (that neither explodes, nor collapses)? Draw both margins of stability on a complex plane."
      ]
    },
    {
      "cell_type": "code",
      "execution_count": null,
      "metadata": {
        "id": "c5Fmk3SCBFZ1"
      },
      "outputs": [],
      "source": [
        "fig,ax = plt.subplots(1,2, figsize=(6.5,3))\n",
        "ax[0].set_title('Continuous')\n",
        "ax[0].axvline(0)\n",
        "ax[0].text(-1,0.0,'Stable')\n",
        "ax[0].text(1,0.0,'Unstable',horizontalalignment='right')\n",
        "\n",
        "ax[1].set_title('Discrete')\n",
        "a = np.linspace(-np.pi,+np.pi,100)\n",
        "ax[1].plot(np.sin(a),np.cos(a))\n",
        "ax[1].text(0,0.0,'Stable',horizontalalignment='center')\n",
        "ax[1].text(0.5,-1,'Unstable',horizontalalignment='left')\n",
        "\n",
        "for a in ax:\n",
        "  a.set_xlim(-1.2,1.2)\n",
        "  a.set_ylim(-1.2,1.2)"
      ]
    },
    {
      "cell_type": "markdown",
      "metadata": {
        "id": "9g5YLxpWNo0h"
      },
      "source": [
        "## **Exercise 7 (bonus):** practice reading eigenspectra from papers"
      ]
    },
    {
      "cell_type": "markdown",
      "metadata": {
        "id": "fui5GF6-KQCX"
      },
      "source": [
        "\n",
        "### A spectrum of a continuous linearized E-I network\n",
        "\n",
        "How does this continuous system behave? \n",
        "What dynamic modes do these eigenvalues describe?\n",
        "Which eigenvalues are dominant?\n",
        "\n",
        "![spectrum1](https://drive.google.com/uc?export=view&id=1OHb8jNNET8VFcBZtPhVCEqVBV8jmLguC)"
      ]
    },
    {
      "cell_type": "markdown",
      "metadata": {
        "id": "9XCGaSF3J7_h"
      },
      "source": [
        "**Answer** (from the original paper): The spectrum shows a conjugate complex eigenvalue pair with large real part. This pair of eigenvalues dominates the dynamics as their real parts are close to 1 and leads to the **periodic behaviour**.\n",
        "\n",
        "The 'Balance' eigenvalue corresponds to a relaxation mode (decaying), and 'Random-like' mode corresponds to a degenerate dynamics akin to line attractor. \n",
        "\n",
        "*Maes, Amadeus, Mauricio Barahona, and Claudia Clopath. \"Learning spatiotemporal signals using a recurrent spiking network that discretizes time.\" PLoS computational biology 16.1 (2020): e1007606.*\n"
      ]
    },
    {
      "cell_type": "markdown",
      "metadata": {
        "id": "qIm6cjLqfaWB"
      },
      "source": [
        "## Summary\n",
        "\n",
        "In this tutorial, we learned:\n",
        "\n",
        "1. What linear systems can and can not do\n",
        "2. What fixed points are and how to check their stability\n",
        "3. How to read eigenspectra of the dynamic state transition matrix\n",
        "\n",
        "Now together we'll conclude:\n",
        "4. How to relate the dynamics to computations on inputs (whiteboard)\n"
      ]
    },
    {
      "cell_type": "markdown",
      "metadata": {
        "id": "H19D2ahHdTkK"
      },
      "source": [
        "# Projects (sorted from simpler to more complicated)\n",
        "\n",
        "**Beginner (static):**\n",
        "Generate your own neuronal network (function provided), but now with the responses to 2 stimuli, that evoke different average responses. Apply PCA, make a scree plot. How many dimensions do we need to explain the data? Select an optimal number of components (elbo) How well can we reconstruct the data from these components?\n",
        "\n",
        "**Beginner (dynamic):**  Follow the bonus part of the tutorial to explore how the nonlinear dynamics of the Hodgkin-Huxley equation gives rise to action potentials. Using the phase portraits and nullclines (explined in the notebook), explain how the change of the voltage threshold affects the system and the number of fixed points.\n",
        "\n",
        "**Intermediate (static):**\n",
        "Visualize a hand movement task $[\\mathrm{trials} \\times \\mathrm{time} \\times \\mathrm{neurons}]$ in a PCA space in 2 ways:\n",
        "1. Calculate time-average responses per trial $[\\mathrm{trials} \\times \\mathrm{neurons}]$ and reduce the neuronal population responses to a few dimensions. Visualize the result and label (color-code) different hand-reaching targets. Do they separate in the PC space?\n",
        "2. Treat every timepoint independently $[(\\mathrm{trials} \\cdot \\mathrm{time}) \\times \\mathrm{neurons}]$, apply PCA, connect the dots to visualize the *trajectories* in the latent space. Do they separate well in the PC space?\n",
        "\n",
        "TODO: check part3 notebook\n",
        "\n",
        "**Intermediate (dynamic):**  In this tutorial we considered mostly autonomous dynamical systems, including a line attractor. Although, a line attractor has interesting input-processing properties: it can integrate inputs! Implement a 2D line attractor with 1D external input (e.g. white noise):\n",
        "$$\\mathbf{\\dot x} = A\\mathbf{x} + B\\mathbf{u} + \\mathbf{b}$$\n",
        "and demonstrate input integration. What should be the relationship between matrices $A$ and $B$ for integration to work?\n",
        "\n",
        "**Intermediate (dynamic):** Between linear and non-linear models of dynamics, there is an intermediate class of models: piecewise-linear models. These models are linear within a certain area of a phase plane, but can generally exhibit quite complex behavior. Consider a 2D dynamical system:\n",
        "\n",
        "$$\\mathbf{\\dot x} = {\\begin{bmatrix}\n",
        "    \\dot x_1 \\\\\n",
        "    \\dot x_2\n",
        "\\end{bmatrix}} = \\begin{cases} \n",
        "      A_-\\mathbf{x} + \\mathbf{b_-} & x_1 < 0 \\\\\n",
        "      A_+\\mathbf{x} + \\mathbf{b_+} & x_1 \\geq 0 \n",
        "   \\end{cases} $$\n",
        "\n",
        "Implement this system and analyse its phase portrait and trajectories in the phase space. \n",
        "\n",
        "How does the stability depend on the parameters of the model? What is the period of oscillations?\n",
        "\n",
        "Extra question$^*$: is it possible to obtain a figure-of-eight trajectory in such system?\n",
        "\n",
        "**Hard (static):** Allen Brain data analysis (starter notebook will be provided; result -- high risk)\n",
        "Calculate noise correlations during visual stimulus presentations on Allen Brain data. Using PCA, identify the ensambles in the neuronal population, which work together. \n",
        " TODO: Ask Tom for an ensemble link\n",
        "\n",
        "**Hard to extra-hard (both):** Merging dynamics with PCA\n",
        "Generate observations from a linear dynamical system. Reduce the dimensionality and visualize the trajectories? Is the characteristic dynamics evident from the PC space? Explore the result for different eigenspectra.\n",
        "*Potential extension for the second project:* infer the dynamics from the observed first PC components.\n",
        "\n",
        " "
      ]
    },
    {
      "cell_type": "markdown",
      "metadata": {
        "id": "kblnhvBQ9GvC"
      },
      "source": [
        "# References\n",
        "\n",
        "1. Izhikevich, Eugene M. [Dynamical systems in neuroscience.](https://www.izhikevich.org/publications/dsn.pdf) MIT press, 2007.\n",
        "\n",
        "2. Gerstner, Wulfram, et al. [Neuronal dynamics](https://neuronaldynamics.epfl.ch/index.html): From single neurons to networks and models of cognition. Cambridge University Press, 2014.\n",
        "\n",
        "<!-- ## Other great tutorials: -->\n",
        "3. Linear dynamical systems by Bing Wen Brunton and Alice Schwarze [Neuromatch: W2D2](https://compneuro.neuromatch.io/tutorials/W2D2_LinearSystems/student/W2D2_Tutorial1.html), 2020-now"
      ]
    },
    {
      "cell_type": "code",
      "execution_count": null,
      "metadata": {
        "id": "_6P_8snoKZzg"
      },
      "outputs": [],
      "source": []
    }
  ],
  "metadata": {
    "colab": {
      "collapsed_sections": [
        "5e6LtQ4p-B8U",
        "240PYpGQF9XH",
        "DO5ql9-vtk0H",
        "udXVsH6B8tfL",
        "WFHVKE6IAVqy",
        "qIm6cjLqfaWB",
        "lOUo8icZuhI2",
        "lvj5ekalAw2y",
        "dhCZE54EA9Sc",
        "32pRn7au6len",
        "H19D2ahHdTkK",
        "jE2TTKmgzwIP",
        "kblnhvBQ9GvC"
      ],
      "provenance": [],
      "toc_visible": true,
      "include_colab_link": true
    },
    "kernelspec": {
      "display_name": "Python 3 (ipykernel)",
      "language": "python",
      "name": "python3"
    },
    "language_info": {
      "codemirror_mode": {
        "name": "ipython",
        "version": 3
      },
      "file_extension": ".py",
      "mimetype": "text/x-python",
      "name": "python",
      "nbconvert_exporter": "python",
      "pygments_lexer": "ipython3",
      "version": "3.8.16"
    }
  },
  "nbformat": 4,
  "nbformat_minor": 0
}